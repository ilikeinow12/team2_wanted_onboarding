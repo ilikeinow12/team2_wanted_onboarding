{
 "cells": [
  {
   "cell_type": "code",
   "execution_count": 339,
   "metadata": {},
   "outputs": [],
   "source": [
    "import pandas as pd\n",
    "import numpy as np\n",
    "import matplotlib.pyplot as plt\n",
    "import seaborn as sns\n",
    "\n",
    "# 경고창 무시\n",
    "import warnings\n",
    "warnings.filterwarnings(action='ignore')\n",
    "\n",
    "# matplotlib 한글 폰트 오류 해결\n",
    "import platform\n",
    "from matplotlib import font_manager, rc\n",
    "plt.rcParams['axes.unicode_minus'] = False\n",
    "\n",
    "if platform.system() == 'Darwin':\n",
    "    rc('font', family='appleGothic')\n",
    "elif platform.system() == 'Windows':\n",
    "    path = \"c:/Windows/Fonts/malgun.ttf\"\n",
    "    font_name = font_manager.FontProperties(fname=path).get_name()\n",
    "    rc('font', family=font_name)\n",
    "else:\n",
    "    print('Unknown system.... sorry.....')"
   ]
  },
  {
   "cell_type": "markdown",
   "metadata": {},
   "source": [
    "## 데이터 불러오기\n",
    "- 최근 3개월간 클로젯셰어 신규 구매 데이터 일부"
   ]
  },
  {
   "cell_type": "code",
   "execution_count": 321,
   "metadata": {},
   "outputs": [],
   "source": [
    "df = pd.read_excel('closetDB.xlsx',encoding='ansi')"
   ]
  },
  {
   "cell_type": "code",
   "execution_count": 322,
   "metadata": {},
   "outputs": [
    {
     "data": {
      "text/html": [
       "<div>\n",
       "<style scoped>\n",
       "    .dataframe tbody tr th:only-of-type {\n",
       "        vertical-align: middle;\n",
       "    }\n",
       "\n",
       "    .dataframe tbody tr th {\n",
       "        vertical-align: top;\n",
       "    }\n",
       "\n",
       "    .dataframe thead th {\n",
       "        text-align: right;\n",
       "    }\n",
       "</style>\n",
       "<table border=\"1\" class=\"dataframe\">\n",
       "  <thead>\n",
       "    <tr style=\"text-align: right;\">\n",
       "      <th></th>\n",
       "      <th>brandnm</th>\n",
       "      <th>goodsnm</th>\n",
       "      <th>USER</th>\n",
       "      <th>reg_date</th>\n",
       "      <th>order_date</th>\n",
       "      <th>p_type</th>\n",
       "      <th>sub_type</th>\n",
       "      <th>app_yn</th>\n",
       "    </tr>\n",
       "  </thead>\n",
       "  <tbody>\n",
       "    <tr>\n",
       "      <th>0</th>\n",
       "      <td>Gucci</td>\n",
       "      <td>flower dionysus shoulder bag beige</td>\n",
       "      <td>a161237</td>\n",
       "      <td>2019-12-06</td>\n",
       "      <td>2021-01-15</td>\n",
       "      <td>7days</td>\n",
       "      <td>BA</td>\n",
       "      <td>Y</td>\n",
       "    </tr>\n",
       "    <tr>\n",
       "      <th>1</th>\n",
       "      <td>El estilo de Claire</td>\n",
       "      <td>beads cropped jacket black</td>\n",
       "      <td>a1140859</td>\n",
       "      <td>2021-01-02</td>\n",
       "      <td>2021-01-15</td>\n",
       "      <td>4days</td>\n",
       "      <td>O</td>\n",
       "      <td>NaN</td>\n",
       "    </tr>\n",
       "    <tr>\n",
       "      <th>2</th>\n",
       "      <td>Danha</td>\n",
       "      <td>embroidery point oriental mini skirt blue</td>\n",
       "      <td>a1140859</td>\n",
       "      <td>2021-01-02</td>\n",
       "      <td>2021-01-15</td>\n",
       "      <td>4days</td>\n",
       "      <td>B</td>\n",
       "      <td>NaN</td>\n",
       "    </tr>\n",
       "    <tr>\n",
       "      <th>3</th>\n",
       "      <td>Danha</td>\n",
       "      <td>graphics pattern top pink</td>\n",
       "      <td>a1140859</td>\n",
       "      <td>2021-01-02</td>\n",
       "      <td>2021-01-15</td>\n",
       "      <td>4days</td>\n",
       "      <td>T</td>\n",
       "      <td>NaN</td>\n",
       "    </tr>\n",
       "    <tr>\n",
       "      <th>4</th>\n",
       "      <td>Burberry London</td>\n",
       "      <td>buckle basic pattern zipup-jumper navy</td>\n",
       "      <td>a1140740</td>\n",
       "      <td>2021-01-01</td>\n",
       "      <td>2021-01-15</td>\n",
       "      <td>7days</td>\n",
       "      <td>O</td>\n",
       "      <td>Y</td>\n",
       "    </tr>\n",
       "  </tbody>\n",
       "</table>\n",
       "</div>"
      ],
      "text/plain": [
       "               brandnm                                    goodsnm      USER  \\\n",
       "0                Gucci         flower dionysus shoulder bag beige   a161237   \n",
       "1  El estilo de Claire                 beads cropped jacket black  a1140859   \n",
       "2                Danha  embroidery point oriental mini skirt blue  a1140859   \n",
       "3                Danha                  graphics pattern top pink  a1140859   \n",
       "4      Burberry London     buckle basic pattern zipup-jumper navy  a1140740   \n",
       "\n",
       "    reg_date order_date p_type sub_type app_yn  \n",
       "0 2019-12-06 2021-01-15  7days       BA      Y  \n",
       "1 2021-01-02 2021-01-15  4days        O    NaN  \n",
       "2 2021-01-02 2021-01-15  4days        B    NaN  \n",
       "3 2021-01-02 2021-01-15  4days        T    NaN  \n",
       "4 2021-01-01 2021-01-15  7days        O      Y  "
      ]
     },
     "execution_count": 322,
     "metadata": {},
     "output_type": "execute_result"
    }
   ],
   "source": [
    "df.head(5)"
   ]
  },
  {
   "cell_type": "markdown",
   "metadata": {},
   "source": [
    "## 컬럼 정의"
   ]
  },
  {
   "cell_type": "markdown",
   "metadata": {},
   "source": [
    "- brandnm : 아이템 브랜드명\n",
    "- goodsnm : 아이템 명\n",
    "- USER : 개별 유저 식별 값\n",
    "- reg_date : 개별 유저 가입일\n",
    "- order_date : 아이템 주문일\n",
    "- p_type : 주문 상품 종류\n",
    "     - 7days (7일권) / 4days (4일권)\n",
    "- sub_type : 주문 상품 카테고리 \n",
    "     - BA – 가방 / O – 아우터 / D – 드레스 / T – 상의 / B – 하의 / TB – 투피스 \n",
    "- app_yn : 어플리케이션 사용 여부\n",
    "     - Y – 어플리케이션 사용 / (공백) – 어플리케이션 미사용\n"
   ]
  },
  {
   "cell_type": "markdown",
   "metadata": {},
   "source": [
    "## 데이터 확인 (자료형, 결측치)"
   ]
  },
  {
   "cell_type": "code",
   "execution_count": 323,
   "metadata": {},
   "outputs": [
    {
     "name": "stdout",
     "output_type": "stream",
     "text": [
      "<class 'pandas.core.frame.DataFrame'>\n",
      "RangeIndex: 1471 entries, 0 to 1470\n",
      "Data columns (total 8 columns):\n",
      " #   Column      Non-Null Count  Dtype         \n",
      "---  ------      --------------  -----         \n",
      " 0   brandnm     1442 non-null   object        \n",
      " 1   goodsnm     1471 non-null   object        \n",
      " 2   USER        1471 non-null   object        \n",
      " 3   reg_date    1466 non-null   datetime64[ns]\n",
      " 4   order_date  1471 non-null   datetime64[ns]\n",
      " 5   p_type      1471 non-null   object        \n",
      " 6   sub_type    1471 non-null   object        \n",
      " 7   app_yn      1295 non-null   object        \n",
      "dtypes: datetime64[ns](2), object(6)\n",
      "memory usage: 92.1+ KB\n"
     ]
    }
   ],
   "source": [
    "df.info()"
   ]
  },
  {
   "cell_type": "markdown",
   "metadata": {},
   "source": [
    "## 결측치 처리\n",
    "- 'brandnm' 결측치는 'goodsnm'을 바탕으로 클로젯셰어에서 검색 후 입력 (3가지 품목 제외)\n",
    "- 'reg_date' 결측치는 USER ID가 순차적으로 입력된 것을 바탕으로 입력"
   ]
  },
  {
   "cell_type": "code",
   "execution_count": 324,
   "metadata": {},
   "outputs": [
    {
     "data": {
      "text/html": [
       "<div>\n",
       "<style scoped>\n",
       "    .dataframe tbody tr th:only-of-type {\n",
       "        vertical-align: middle;\n",
       "    }\n",
       "\n",
       "    .dataframe tbody tr th {\n",
       "        vertical-align: top;\n",
       "    }\n",
       "\n",
       "    .dataframe thead th {\n",
       "        text-align: right;\n",
       "    }\n",
       "</style>\n",
       "<table border=\"1\" class=\"dataframe\">\n",
       "  <thead>\n",
       "    <tr style=\"text-align: right;\">\n",
       "      <th></th>\n",
       "      <th>brandnm</th>\n",
       "      <th>goodsnm</th>\n",
       "      <th>USER</th>\n",
       "      <th>reg_date</th>\n",
       "      <th>order_date</th>\n",
       "      <th>p_type</th>\n",
       "      <th>sub_type</th>\n",
       "      <th>app_yn</th>\n",
       "    </tr>\n",
       "  </thead>\n",
       "  <tbody>\n",
       "    <tr>\n",
       "      <th>146</th>\n",
       "      <td>NaN</td>\n",
       "      <td>feminine military blouse &amp; high waist wide slacks</td>\n",
       "      <td>a1144948</td>\n",
       "      <td>2021-01-30</td>\n",
       "      <td>2021-01-30</td>\n",
       "      <td>4days</td>\n",
       "      <td>TP</td>\n",
       "      <td>Y</td>\n",
       "    </tr>\n",
       "    <tr>\n",
       "      <th>147</th>\n",
       "      <td>NaN</td>\n",
       "      <td>button basic pattern doublebreasted-jacket sky...</td>\n",
       "      <td>a170041</td>\n",
       "      <td>2020-01-01</td>\n",
       "      <td>2021-01-30</td>\n",
       "      <td>4days</td>\n",
       "      <td>TP</td>\n",
       "      <td>Y</td>\n",
       "    </tr>\n",
       "    <tr>\n",
       "      <th>160</th>\n",
       "      <td>NaN</td>\n",
       "      <td>lace point shirring blouse pink &amp; lace detail ...</td>\n",
       "      <td>a1141009</td>\n",
       "      <td>2021-01-04</td>\n",
       "      <td>2021-01-28</td>\n",
       "      <td>4days</td>\n",
       "      <td>TP</td>\n",
       "      <td>Y</td>\n",
       "    </tr>\n",
       "    <tr>\n",
       "      <th>220</th>\n",
       "      <td>NaN</td>\n",
       "      <td>printing pattern hoodie grey &amp; pocket basic pa...</td>\n",
       "      <td>a1144470</td>\n",
       "      <td>2021-01-25</td>\n",
       "      <td>2021-01-26</td>\n",
       "      <td>4days</td>\n",
       "      <td>TP</td>\n",
       "      <td>Y</td>\n",
       "    </tr>\n",
       "    <tr>\n",
       "      <th>267</th>\n",
       "      <td>NaN</td>\n",
       "      <td>button basic pattern jacket black &amp; pocket bas...</td>\n",
       "      <td>a121913</td>\n",
       "      <td>2019-05-05</td>\n",
       "      <td>2021-01-21</td>\n",
       "      <td>4days</td>\n",
       "      <td>TP</td>\n",
       "      <td>Y</td>\n",
       "    </tr>\n",
       "    <tr>\n",
       "      <th>282</th>\n",
       "      <td>NaN</td>\n",
       "      <td>buckle shirt &amp; embroidery lace skirt charcoal</td>\n",
       "      <td>a1132297</td>\n",
       "      <td>2020-11-22</td>\n",
       "      <td>2021-01-21</td>\n",
       "      <td>7days</td>\n",
       "      <td>TP</td>\n",
       "      <td>Y</td>\n",
       "    </tr>\n",
       "    <tr>\n",
       "      <th>285</th>\n",
       "      <td>NaN</td>\n",
       "      <td>button tweed pattern doublebreasted-coat multi...</td>\n",
       "      <td>a1127979</td>\n",
       "      <td>2020-10-31</td>\n",
       "      <td>2021-01-21</td>\n",
       "      <td>7days</td>\n",
       "      <td>TP</td>\n",
       "      <td>Y</td>\n",
       "    </tr>\n",
       "    <tr>\n",
       "      <th>329</th>\n",
       "      <td>NaN</td>\n",
       "      <td>long sleeve rib t-shirt &amp; check pattern square...</td>\n",
       "      <td>a1134915</td>\n",
       "      <td>2020-12-03</td>\n",
       "      <td>2021-01-19</td>\n",
       "      <td>7days</td>\n",
       "      <td>TP</td>\n",
       "      <td>NaN</td>\n",
       "    </tr>\n",
       "    <tr>\n",
       "      <th>342</th>\n",
       "      <td>NaN</td>\n",
       "      <td>cutout neck knit &amp; color pleats belt skirt</td>\n",
       "      <td>a1141257</td>\n",
       "      <td>2021-01-05</td>\n",
       "      <td>2021-01-19</td>\n",
       "      <td>4days</td>\n",
       "      <td>TP</td>\n",
       "      <td>Y</td>\n",
       "    </tr>\n",
       "    <tr>\n",
       "      <th>368</th>\n",
       "      <td>NaN</td>\n",
       "      <td>El estilo de Claire - neoprene botanical print...</td>\n",
       "      <td>a1107090</td>\n",
       "      <td>2020-07-03</td>\n",
       "      <td>2021-01-17</td>\n",
       "      <td>4days</td>\n",
       "      <td>TP</td>\n",
       "      <td>Y</td>\n",
       "    </tr>\n",
       "    <tr>\n",
       "      <th>373</th>\n",
       "      <td>NaN</td>\n",
       "      <td>frill detail knit &amp; dot pattern skirt</td>\n",
       "      <td>a171081</td>\n",
       "      <td>2020-01-06</td>\n",
       "      <td>2021-01-17</td>\n",
       "      <td>7days</td>\n",
       "      <td>TP</td>\n",
       "      <td>Y</td>\n",
       "    </tr>\n",
       "    <tr>\n",
       "      <th>443</th>\n",
       "      <td>NaN</td>\n",
       "      <td>stripe boat neck t-shirt &amp; buckle suspender dress</td>\n",
       "      <td>a1147458</td>\n",
       "      <td>2021-02-24</td>\n",
       "      <td>2021-02-24</td>\n",
       "      <td>7days</td>\n",
       "      <td>TP</td>\n",
       "      <td>Y</td>\n",
       "    </tr>\n",
       "    <tr>\n",
       "      <th>505</th>\n",
       "      <td>NaN</td>\n",
       "      <td>stripe pattern long vest gray &amp; wrap detail st...</td>\n",
       "      <td>a1145316</td>\n",
       "      <td>2021-02-03</td>\n",
       "      <td>2021-02-22</td>\n",
       "      <td>4days</td>\n",
       "      <td>TP</td>\n",
       "      <td>Y</td>\n",
       "    </tr>\n",
       "    <tr>\n",
       "      <th>525</th>\n",
       "      <td>NaN</td>\n",
       "      <td>no collar simple jacket&amp; crease slacks ivory</td>\n",
       "      <td>a1146852</td>\n",
       "      <td>2021-02-18</td>\n",
       "      <td>2021-02-19</td>\n",
       "      <td>7days</td>\n",
       "      <td>TP</td>\n",
       "      <td>NaN</td>\n",
       "    </tr>\n",
       "    <tr>\n",
       "      <th>526</th>\n",
       "      <td>NaN</td>\n",
       "      <td>button check pattern jacket yellow &amp; pocket ch...</td>\n",
       "      <td>a1146852</td>\n",
       "      <td>2021-02-18</td>\n",
       "      <td>2021-02-19</td>\n",
       "      <td>7days</td>\n",
       "      <td>TP</td>\n",
       "      <td>NaN</td>\n",
       "    </tr>\n",
       "    <tr>\n",
       "      <th>544</th>\n",
       "      <td>NaN</td>\n",
       "      <td>waffle bulky knit &amp; wool slim skirt</td>\n",
       "      <td>a1146854</td>\n",
       "      <td>2021-02-18</td>\n",
       "      <td>2021-02-18</td>\n",
       "      <td>7days</td>\n",
       "      <td>TP</td>\n",
       "      <td>Y</td>\n",
       "    </tr>\n",
       "    <tr>\n",
       "      <th>765</th>\n",
       "      <td>NaN</td>\n",
       "      <td>[66]El estilo de Claire - wang letter neoprene...</td>\n",
       "      <td>a1139388</td>\n",
       "      <td>2020-12-23</td>\n",
       "      <td>2021-02-04</td>\n",
       "      <td>4days</td>\n",
       "      <td>TP</td>\n",
       "      <td>Y</td>\n",
       "    </tr>\n",
       "    <tr>\n",
       "      <th>766</th>\n",
       "      <td>NaN</td>\n",
       "      <td>embroidery twist knit &amp; mini gored skirt</td>\n",
       "      <td>a1139388</td>\n",
       "      <td>2020-12-23</td>\n",
       "      <td>2021-02-04</td>\n",
       "      <td>4days</td>\n",
       "      <td>TP</td>\n",
       "      <td>Y</td>\n",
       "    </tr>\n",
       "    <tr>\n",
       "      <th>879</th>\n",
       "      <td>NaN</td>\n",
       "      <td>ribbon flower pattern blouse black &amp; pleats fl...</td>\n",
       "      <td>a1149885</td>\n",
       "      <td>2021-03-18</td>\n",
       "      <td>2021-03-30</td>\n",
       "      <td>4days</td>\n",
       "      <td>TP</td>\n",
       "      <td>Y</td>\n",
       "    </tr>\n",
       "    <tr>\n",
       "      <th>892</th>\n",
       "      <td>NaN</td>\n",
       "      <td>color lace blouse &amp; color lace skirt</td>\n",
       "      <td>a110947</td>\n",
       "      <td>2018-11-01</td>\n",
       "      <td>2021-03-29</td>\n",
       "      <td>7days</td>\n",
       "      <td>TP</td>\n",
       "      <td>Y</td>\n",
       "    </tr>\n",
       "    <tr>\n",
       "      <th>931</th>\n",
       "      <td>NaN</td>\n",
       "      <td>shoulder button pullover &amp; burnout flare skirt</td>\n",
       "      <td>a1150959</td>\n",
       "      <td>2021-03-26</td>\n",
       "      <td>2021-03-26</td>\n",
       "      <td>4days</td>\n",
       "      <td>TP</td>\n",
       "      <td>NaN</td>\n",
       "    </tr>\n",
       "    <tr>\n",
       "      <th>946</th>\n",
       "      <td>NaN</td>\n",
       "      <td>cut out detail button pointed top &amp; stripe pat...</td>\n",
       "      <td>a1150675</td>\n",
       "      <td>2021-03-24</td>\n",
       "      <td>2021-03-26</td>\n",
       "      <td>7days</td>\n",
       "      <td>TP</td>\n",
       "      <td>Y</td>\n",
       "    </tr>\n",
       "    <tr>\n",
       "      <th>957</th>\n",
       "      <td>NaN</td>\n",
       "      <td>button stripe pattern wool jacket black &amp; pock...</td>\n",
       "      <td>a1124921</td>\n",
       "      <td>2020-10-17</td>\n",
       "      <td>2021-03-25</td>\n",
       "      <td>4days</td>\n",
       "      <td>TP</td>\n",
       "      <td>Y</td>\n",
       "    </tr>\n",
       "    <tr>\n",
       "      <th>993</th>\n",
       "      <td>NaN</td>\n",
       "      <td>embossing detail crop jacket &amp; pleats detail p...</td>\n",
       "      <td>a174425</td>\n",
       "      <td>2020-01-16</td>\n",
       "      <td>2021-03-24</td>\n",
       "      <td>4days</td>\n",
       "      <td>TP</td>\n",
       "      <td>Y</td>\n",
       "    </tr>\n",
       "    <tr>\n",
       "      <th>1062</th>\n",
       "      <td>NaN</td>\n",
       "      <td>lettering pattern top mint &amp; pocket basic patt...</td>\n",
       "      <td>a1150312</td>\n",
       "      <td>2021-03-22</td>\n",
       "      <td>2021-03-22</td>\n",
       "      <td>4days</td>\n",
       "      <td>TP</td>\n",
       "      <td>Y</td>\n",
       "    </tr>\n",
       "    <tr>\n",
       "      <th>1160</th>\n",
       "      <td>NaN</td>\n",
       "      <td>button basic pattern cardigan pink &amp; basic pat...</td>\n",
       "      <td>a1147111</td>\n",
       "      <td>2021-02-21</td>\n",
       "      <td>2021-03-17</td>\n",
       "      <td>4days</td>\n",
       "      <td>TP</td>\n",
       "      <td>Y</td>\n",
       "    </tr>\n",
       "    <tr>\n",
       "      <th>1210</th>\n",
       "      <td>NaN</td>\n",
       "      <td>lace pattern top pink &amp; lace pattern skirt pink</td>\n",
       "      <td>a1149269</td>\n",
       "      <td>2021-03-14</td>\n",
       "      <td>2021-03-16</td>\n",
       "      <td>4days</td>\n",
       "      <td>TP</td>\n",
       "      <td>NaN</td>\n",
       "    </tr>\n",
       "    <tr>\n",
       "      <th>1385</th>\n",
       "      <td>NaN</td>\n",
       "      <td>button check pattern jacket brown &amp; pocket che...</td>\n",
       "      <td>a1148229</td>\n",
       "      <td>2021-03-04</td>\n",
       "      <td>2021-03-04</td>\n",
       "      <td>4days</td>\n",
       "      <td>TP</td>\n",
       "      <td>NaN</td>\n",
       "    </tr>\n",
       "    <tr>\n",
       "      <th>1405</th>\n",
       "      <td>NaN</td>\n",
       "      <td>ribbon flower pattern top navy &amp; flower patter...</td>\n",
       "      <td>a1147799</td>\n",
       "      <td>2021-02-28</td>\n",
       "      <td>2021-03-03</td>\n",
       "      <td>7days</td>\n",
       "      <td>TP</td>\n",
       "      <td>Y</td>\n",
       "    </tr>\n",
       "  </tbody>\n",
       "</table>\n",
       "</div>"
      ],
      "text/plain": [
       "     brandnm                                            goodsnm      USER  \\\n",
       "146      NaN  feminine military blouse & high waist wide slacks  a1144948   \n",
       "147      NaN  button basic pattern doublebreasted-jacket sky...   a170041   \n",
       "160      NaN  lace point shirring blouse pink & lace detail ...  a1141009   \n",
       "220      NaN  printing pattern hoodie grey & pocket basic pa...  a1144470   \n",
       "267      NaN  button basic pattern jacket black & pocket bas...   a121913   \n",
       "282      NaN      buckle shirt & embroidery lace skirt charcoal  a1132297   \n",
       "285      NaN  button tweed pattern doublebreasted-coat multi...  a1127979   \n",
       "329      NaN  long sleeve rib t-shirt & check pattern square...  a1134915   \n",
       "342      NaN         cutout neck knit & color pleats belt skirt  a1141257   \n",
       "368      NaN  El estilo de Claire - neoprene botanical print...  a1107090   \n",
       "373      NaN              frill detail knit & dot pattern skirt   a171081   \n",
       "443      NaN  stripe boat neck t-shirt & buckle suspender dress  a1147458   \n",
       "505      NaN  stripe pattern long vest gray & wrap detail st...  a1145316   \n",
       "525      NaN       no collar simple jacket& crease slacks ivory  a1146852   \n",
       "526      NaN  button check pattern jacket yellow & pocket ch...  a1146852   \n",
       "544      NaN                waffle bulky knit & wool slim skirt  a1146854   \n",
       "765      NaN  [66]El estilo de Claire - wang letter neoprene...  a1139388   \n",
       "766      NaN           embroidery twist knit & mini gored skirt  a1139388   \n",
       "879      NaN  ribbon flower pattern blouse black & pleats fl...  a1149885   \n",
       "892      NaN               color lace blouse & color lace skirt   a110947   \n",
       "931      NaN     shoulder button pullover & burnout flare skirt  a1150959   \n",
       "946      NaN  cut out detail button pointed top & stripe pat...  a1150675   \n",
       "957      NaN  button stripe pattern wool jacket black & pock...  a1124921   \n",
       "993      NaN  embossing detail crop jacket & pleats detail p...   a174425   \n",
       "1062     NaN  lettering pattern top mint & pocket basic patt...  a1150312   \n",
       "1160     NaN  button basic pattern cardigan pink & basic pat...  a1147111   \n",
       "1210     NaN    lace pattern top pink & lace pattern skirt pink  a1149269   \n",
       "1385     NaN  button check pattern jacket brown & pocket che...  a1148229   \n",
       "1405     NaN  ribbon flower pattern top navy & flower patter...  a1147799   \n",
       "\n",
       "       reg_date order_date p_type sub_type app_yn  \n",
       "146  2021-01-30 2021-01-30  4days       TP      Y  \n",
       "147  2020-01-01 2021-01-30  4days       TP      Y  \n",
       "160  2021-01-04 2021-01-28  4days       TP      Y  \n",
       "220  2021-01-25 2021-01-26  4days       TP      Y  \n",
       "267  2019-05-05 2021-01-21  4days       TP      Y  \n",
       "282  2020-11-22 2021-01-21  7days       TP      Y  \n",
       "285  2020-10-31 2021-01-21  7days       TP      Y  \n",
       "329  2020-12-03 2021-01-19  7days       TP    NaN  \n",
       "342  2021-01-05 2021-01-19  4days       TP      Y  \n",
       "368  2020-07-03 2021-01-17  4days       TP      Y  \n",
       "373  2020-01-06 2021-01-17  7days       TP      Y  \n",
       "443  2021-02-24 2021-02-24  7days       TP      Y  \n",
       "505  2021-02-03 2021-02-22  4days       TP      Y  \n",
       "525  2021-02-18 2021-02-19  7days       TP    NaN  \n",
       "526  2021-02-18 2021-02-19  7days       TP    NaN  \n",
       "544  2021-02-18 2021-02-18  7days       TP      Y  \n",
       "765  2020-12-23 2021-02-04  4days       TP      Y  \n",
       "766  2020-12-23 2021-02-04  4days       TP      Y  \n",
       "879  2021-03-18 2021-03-30  4days       TP      Y  \n",
       "892  2018-11-01 2021-03-29  7days       TP      Y  \n",
       "931  2021-03-26 2021-03-26  4days       TP    NaN  \n",
       "946  2021-03-24 2021-03-26  7days       TP      Y  \n",
       "957  2020-10-17 2021-03-25  4days       TP      Y  \n",
       "993  2020-01-16 2021-03-24  4days       TP      Y  \n",
       "1062 2021-03-22 2021-03-22  4days       TP      Y  \n",
       "1160 2021-02-21 2021-03-17  4days       TP      Y  \n",
       "1210 2021-03-14 2021-03-16  4days       TP    NaN  \n",
       "1385 2021-03-04 2021-03-04  4days       TP    NaN  \n",
       "1405 2021-02-28 2021-03-03  7days       TP      Y  "
      ]
     },
     "execution_count": 324,
     "metadata": {},
     "output_type": "execute_result"
    }
   ],
   "source": [
    "df[df['brandnm'].isnull()]"
   ]
  },
  {
   "cell_type": "code",
   "execution_count": 325,
   "metadata": {},
   "outputs": [
    {
     "data": {
      "text/html": [
       "<div>\n",
       "<style scoped>\n",
       "    .dataframe tbody tr th:only-of-type {\n",
       "        vertical-align: middle;\n",
       "    }\n",
       "\n",
       "    .dataframe tbody tr th {\n",
       "        vertical-align: top;\n",
       "    }\n",
       "\n",
       "    .dataframe thead th {\n",
       "        text-align: right;\n",
       "    }\n",
       "</style>\n",
       "<table border=\"1\" class=\"dataframe\">\n",
       "  <thead>\n",
       "    <tr style=\"text-align: right;\">\n",
       "      <th></th>\n",
       "      <th>brandnm</th>\n",
       "      <th>goodsnm</th>\n",
       "      <th>USER</th>\n",
       "      <th>reg_date</th>\n",
       "      <th>order_date</th>\n",
       "      <th>p_type</th>\n",
       "      <th>sub_type</th>\n",
       "      <th>app_yn</th>\n",
       "    </tr>\n",
       "  </thead>\n",
       "  <tbody>\n",
       "    <tr>\n",
       "      <th>265</th>\n",
       "      <td>Gucci</td>\n",
       "      <td>mamont chain bag red</td>\n",
       "      <td>a1144008</td>\n",
       "      <td>NaT</td>\n",
       "      <td>2021-01-21</td>\n",
       "      <td>7days</td>\n",
       "      <td>BA</td>\n",
       "      <td>Y</td>\n",
       "    </tr>\n",
       "    <tr>\n",
       "      <th>351</th>\n",
       "      <td>Lanvin</td>\n",
       "      <td>banding point jumper skyblue</td>\n",
       "      <td>a1142855</td>\n",
       "      <td>NaT</td>\n",
       "      <td>2021-01-18</td>\n",
       "      <td>7days</td>\n",
       "      <td>O</td>\n",
       "      <td>NaN</td>\n",
       "    </tr>\n",
       "    <tr>\n",
       "      <th>564</th>\n",
       "      <td>Gucci</td>\n",
       "      <td>leather point cross bag</td>\n",
       "      <td>a1146490</td>\n",
       "      <td>NaT</td>\n",
       "      <td>2021-02-18</td>\n",
       "      <td>4days</td>\n",
       "      <td>BA</td>\n",
       "      <td>Y</td>\n",
       "    </tr>\n",
       "    <tr>\n",
       "      <th>746</th>\n",
       "      <td>Fendi</td>\n",
       "      <td>monogram zucchino shoulder bag</td>\n",
       "      <td>a1145478</td>\n",
       "      <td>NaT</td>\n",
       "      <td>2021-02-04</td>\n",
       "      <td>4days</td>\n",
       "      <td>BA</td>\n",
       "      <td>NaN</td>\n",
       "    </tr>\n",
       "    <tr>\n",
       "      <th>1254</th>\n",
       "      <td>Fendi</td>\n",
       "      <td>back to school bag 1</td>\n",
       "      <td>a1149094</td>\n",
       "      <td>NaT</td>\n",
       "      <td>2021-03-12</td>\n",
       "      <td>7days</td>\n",
       "      <td>BA</td>\n",
       "      <td>Y</td>\n",
       "    </tr>\n",
       "  </tbody>\n",
       "</table>\n",
       "</div>"
      ],
      "text/plain": [
       "     brandnm                         goodsnm      USER reg_date order_date  \\\n",
       "265    Gucci            mamont chain bag red  a1144008      NaT 2021-01-21   \n",
       "351   Lanvin    banding point jumper skyblue  a1142855      NaT 2021-01-18   \n",
       "564    Gucci         leather point cross bag  a1146490      NaT 2021-02-18   \n",
       "746    Fendi  monogram zucchino shoulder bag  a1145478      NaT 2021-02-04   \n",
       "1254   Fendi            back to school bag 1  a1149094      NaT 2021-03-12   \n",
       "\n",
       "     p_type sub_type app_yn  \n",
       "265   7days       BA      Y  \n",
       "351   7days        O    NaN  \n",
       "564   4days       BA      Y  \n",
       "746   4days       BA    NaN  \n",
       "1254  7days       BA      Y  "
      ]
     },
     "execution_count": 325,
     "metadata": {},
     "output_type": "execute_result"
    }
   ],
   "source": [
    "df[df['reg_date'].isnull()]"
   ]
  },
  {
   "cell_type": "markdown",
   "metadata": {},
   "source": [
    " "
   ]
  },
  {
   "cell_type": "markdown",
   "metadata": {},
   "source": [
    "## 수정된 데이터 불러오기"
   ]
  },
  {
   "cell_type": "code",
   "execution_count": 326,
   "metadata": {},
   "outputs": [],
   "source": [
    "ndf = pd.read_excel('과제수정DB.xlsx',encoding='utf-8')"
   ]
  },
  {
   "cell_type": "markdown",
   "metadata": {},
   "source": [
    "## 'app_yu' 결측치를 'N'으로 채우기"
   ]
  },
  {
   "cell_type": "code",
   "execution_count": 327,
   "metadata": {},
   "outputs": [],
   "source": [
    "ndf['app_yn'].replace(np.nan, 'N', inplace=True)"
   ]
  },
  {
   "cell_type": "markdown",
   "metadata": {},
   "source": [
    "## 'brandnm' 결측치 2가지 drop"
   ]
  },
  {
   "cell_type": "code",
   "execution_count": 328,
   "metadata": {},
   "outputs": [],
   "source": [
    "ndf.dropna(axis=0, inplace=True)"
   ]
  },
  {
   "cell_type": "code",
   "execution_count": 329,
   "metadata": {},
   "outputs": [
    {
     "data": {
      "text/html": [
       "<div>\n",
       "<style scoped>\n",
       "    .dataframe tbody tr th:only-of-type {\n",
       "        vertical-align: middle;\n",
       "    }\n",
       "\n",
       "    .dataframe tbody tr th {\n",
       "        vertical-align: top;\n",
       "    }\n",
       "\n",
       "    .dataframe thead th {\n",
       "        text-align: right;\n",
       "    }\n",
       "</style>\n",
       "<table border=\"1\" class=\"dataframe\">\n",
       "  <thead>\n",
       "    <tr style=\"text-align: right;\">\n",
       "      <th></th>\n",
       "      <th>brandnm</th>\n",
       "      <th>goodsnm</th>\n",
       "      <th>USER</th>\n",
       "      <th>reg_date</th>\n",
       "      <th>order_date</th>\n",
       "      <th>p_type</th>\n",
       "      <th>sub_type</th>\n",
       "      <th>app_yn</th>\n",
       "    </tr>\n",
       "  </thead>\n",
       "  <tbody>\n",
       "    <tr>\n",
       "      <th>count</th>\n",
       "      <td>1469</td>\n",
       "      <td>1469</td>\n",
       "      <td>1469</td>\n",
       "      <td>1469</td>\n",
       "      <td>1469</td>\n",
       "      <td>1469</td>\n",
       "      <td>1469</td>\n",
       "      <td>1469</td>\n",
       "    </tr>\n",
       "    <tr>\n",
       "      <th>unique</th>\n",
       "      <td>253</td>\n",
       "      <td>977</td>\n",
       "      <td>1232</td>\n",
       "      <td>368</td>\n",
       "      <td>90</td>\n",
       "      <td>2</td>\n",
       "      <td>6</td>\n",
       "      <td>2</td>\n",
       "    </tr>\n",
       "    <tr>\n",
       "      <th>top</th>\n",
       "      <td>Gucci</td>\n",
       "      <td>chevron quilted cross bag black</td>\n",
       "      <td>a1149461</td>\n",
       "      <td>2021-03-16 00:00:00</td>\n",
       "      <td>2021-03-24 00:00:00</td>\n",
       "      <td>4days</td>\n",
       "      <td>BA</td>\n",
       "      <td>Y</td>\n",
       "    </tr>\n",
       "    <tr>\n",
       "      <th>freq</th>\n",
       "      <td>233</td>\n",
       "      <td>23</td>\n",
       "      <td>11</td>\n",
       "      <td>44</td>\n",
       "      <td>46</td>\n",
       "      <td>892</td>\n",
       "      <td>692</td>\n",
       "      <td>1293</td>\n",
       "    </tr>\n",
       "    <tr>\n",
       "      <th>first</th>\n",
       "      <td>NaN</td>\n",
       "      <td>NaN</td>\n",
       "      <td>NaN</td>\n",
       "      <td>2017-06-24 00:00:00</td>\n",
       "      <td>2021-01-01 00:00:00</td>\n",
       "      <td>NaN</td>\n",
       "      <td>NaN</td>\n",
       "      <td>NaN</td>\n",
       "    </tr>\n",
       "    <tr>\n",
       "      <th>last</th>\n",
       "      <td>NaN</td>\n",
       "      <td>NaN</td>\n",
       "      <td>NaN</td>\n",
       "      <td>2021-03-31 00:00:00</td>\n",
       "      <td>2021-03-31 00:00:00</td>\n",
       "      <td>NaN</td>\n",
       "      <td>NaN</td>\n",
       "      <td>NaN</td>\n",
       "    </tr>\n",
       "  </tbody>\n",
       "</table>\n",
       "</div>"
      ],
      "text/plain": [
       "       brandnm                          goodsnm      USER  \\\n",
       "count     1469                             1469      1469   \n",
       "unique     253                              977      1232   \n",
       "top      Gucci  chevron quilted cross bag black  a1149461   \n",
       "freq       233                               23        11   \n",
       "first      NaN                              NaN       NaN   \n",
       "last       NaN                              NaN       NaN   \n",
       "\n",
       "                   reg_date           order_date p_type sub_type app_yn  \n",
       "count                  1469                 1469   1469     1469   1469  \n",
       "unique                  368                   90      2        6      2  \n",
       "top     2021-03-16 00:00:00  2021-03-24 00:00:00  4days       BA      Y  \n",
       "freq                     44                   46    892      692   1293  \n",
       "first   2017-06-24 00:00:00  2021-01-01 00:00:00    NaN      NaN    NaN  \n",
       "last    2021-03-31 00:00:00  2021-03-31 00:00:00    NaN      NaN    NaN  "
      ]
     },
     "execution_count": 329,
     "metadata": {},
     "output_type": "execute_result"
    }
   ],
   "source": [
    "ndf.describe()"
   ]
  },
  {
   "cell_type": "markdown",
   "metadata": {},
   "source": [
    " "
   ]
  },
  {
   "cell_type": "markdown",
   "metadata": {},
   "source": [
    " "
   ]
  },
  {
   "cell_type": "markdown",
   "metadata": {},
   "source": [
    "## 'p_type'(대여일수) 과 'app_yn'(앱사용여부) 별 'sub_type'(대여품목)의 분포 "
   ]
  },
  {
   "cell_type": "code",
   "execution_count": 330,
   "metadata": {
    "scrolled": false
   },
   "outputs": [
    {
     "data": {
      "text/plain": [
       "<seaborn.axisgrid.FacetGrid at 0x17a0ae3ff08>"
      ]
     },
     "execution_count": 330,
     "metadata": {},
     "output_type": "execute_result"
    },
    {
     "data": {
      "image/png": "[encoded data removed]",
      "text/plain": [
       "<Figure size 1086.05x432 with 2 Axes>"
      ]
     },
     "metadata": {},
     "output_type": "display_data"
    }
   ],
   "source": [
    "sns.set_style(style=\"darkgrid\")\n",
    "sns.catplot(x=\"app_yn\", hue=\"sub_type\", col=\"p_type\",\n",
    "            data=ndf, kind=\"count\",\n",
    "            height=6, aspect=1.2)"
   ]
  },
  {
   "cell_type": "markdown",
   "metadata": {},
   "source": [
    "BA – 가방 / O – 아우터 / D – 드레스 / T – 상의 / B – 하의 / TB – 투피스\n",
    " #### 1. 7일권 이용자 보다 4일권 이용자의 수가 많다.\n",
    " #### 2. 대부분의 유저가 앱을 사용해서 물건을 대여했다.\n",
    " #### 3. 가장 많이 대여한 품목은 가방이다.\n",
    " #### 4. 눈에 띄는 차이점은 드레스는 확실히 4일권의 비중이 높음"
   ]
  },
  {
   "cell_type": "markdown",
   "metadata": {},
   "source": [
    " "
   ]
  },
  {
   "cell_type": "markdown",
   "metadata": {},
   "source": [
    " "
   ]
  },
  {
   "cell_type": "markdown",
   "metadata": {},
   "source": [
    "## 가장 많이 대여한 물품\n",
    "- 가방, 아우터, 드레스, 상의, 하의, 투피스 순"
   ]
  },
  {
   "cell_type": "code",
   "execution_count": 331,
   "metadata": {},
   "outputs": [
    {
     "data": {
      "text/html": [
       "<div>\n",
       "<style scoped>\n",
       "    .dataframe tbody tr th:only-of-type {\n",
       "        vertical-align: middle;\n",
       "    }\n",
       "\n",
       "    .dataframe tbody tr th {\n",
       "        vertical-align: top;\n",
       "    }\n",
       "\n",
       "    .dataframe thead th {\n",
       "        text-align: right;\n",
       "    }\n",
       "</style>\n",
       "<table border=\"1\" class=\"dataframe\">\n",
       "  <thead>\n",
       "    <tr style=\"text-align: right;\">\n",
       "      <th></th>\n",
       "      <th>sub_type</th>\n",
       "    </tr>\n",
       "  </thead>\n",
       "  <tbody>\n",
       "    <tr>\n",
       "      <th>BA</th>\n",
       "      <td>692</td>\n",
       "    </tr>\n",
       "    <tr>\n",
       "      <th>O</th>\n",
       "      <td>267</td>\n",
       "    </tr>\n",
       "    <tr>\n",
       "      <th>D</th>\n",
       "      <td>261</td>\n",
       "    </tr>\n",
       "    <tr>\n",
       "      <th>T</th>\n",
       "      <td>164</td>\n",
       "    </tr>\n",
       "    <tr>\n",
       "      <th>B</th>\n",
       "      <td>58</td>\n",
       "    </tr>\n",
       "    <tr>\n",
       "      <th>TP</th>\n",
       "      <td>27</td>\n",
       "    </tr>\n",
       "  </tbody>\n",
       "</table>\n",
       "</div>"
      ],
      "text/plain": [
       "    sub_type\n",
       "BA       692\n",
       "O        267\n",
       "D        261\n",
       "T        164\n",
       "B         58\n",
       "TP        27"
      ]
     },
     "execution_count": 331,
     "metadata": {},
     "output_type": "execute_result"
    }
   ],
   "source": [
    "ndf['sub_type'].value_counts().to_frame()"
   ]
  },
  {
   "cell_type": "code",
   "execution_count": 332,
   "metadata": {},
   "outputs": [
    {
     "data": {
      "text/plain": [
       "<matplotlib.axes._subplots.AxesSubplot at 0x17a0aec2148>"
      ]
     },
     "execution_count": 332,
     "metadata": {},
     "output_type": "execute_result"
    },
    {
     "data": {
      "image/png": "[encoded data removed]",
      "text/plain": [
       "<Figure size 720x576 with 1 Axes>"
      ]
     },
     "metadata": {},
     "output_type": "display_data"
    }
   ],
   "source": [
    "plt.figure(figsize=(10,8))\n",
    "sns.countplot(x=\"sub_type\", data=ndf)"
   ]
  },
  {
   "cell_type": "markdown",
   "metadata": {},
   "source": [
    "## 이용권 비교\n",
    "- 4days : 891\n",
    "- 7days\t: 577"
   ]
  },
  {
   "cell_type": "code",
   "execution_count": 333,
   "metadata": {},
   "outputs": [
    {
     "data": {
      "text/html": [
       "<div>\n",
       "<style scoped>\n",
       "    .dataframe tbody tr th:only-of-type {\n",
       "        vertical-align: middle;\n",
       "    }\n",
       "\n",
       "    .dataframe tbody tr th {\n",
       "        vertical-align: top;\n",
       "    }\n",
       "\n",
       "    .dataframe thead th {\n",
       "        text-align: right;\n",
       "    }\n",
       "</style>\n",
       "<table border=\"1\" class=\"dataframe\">\n",
       "  <thead>\n",
       "    <tr style=\"text-align: right;\">\n",
       "      <th></th>\n",
       "      <th>p_type</th>\n",
       "    </tr>\n",
       "  </thead>\n",
       "  <tbody>\n",
       "    <tr>\n",
       "      <th>4days</th>\n",
       "      <td>892</td>\n",
       "    </tr>\n",
       "    <tr>\n",
       "      <th>7days</th>\n",
       "      <td>577</td>\n",
       "    </tr>\n",
       "  </tbody>\n",
       "</table>\n",
       "</div>"
      ],
      "text/plain": [
       "       p_type\n",
       "4days     892\n",
       "7days     577"
      ]
     },
     "execution_count": 333,
     "metadata": {},
     "output_type": "execute_result"
    }
   ],
   "source": [
    "ndf['p_type'].value_counts().to_frame()"
   ]
  },
  {
   "cell_type": "code",
   "execution_count": 334,
   "metadata": {},
   "outputs": [
    {
     "data": {
      "text/plain": [
       "<matplotlib.axes._subplots.AxesSubplot at 0x17a0af71d48>"
      ]
     },
     "execution_count": 334,
     "metadata": {},
     "output_type": "execute_result"
    },
    {
     "data": {
      "image/png": "[encoded data removed]",
      "text/plain": [
       "<Figure size 720x576 with 1 Axes>"
      ]
     },
     "metadata": {},
     "output_type": "display_data"
    }
   ],
   "source": [
    "plt.figure(figsize=(10,8))\n",
    "sns.countplot(x=\"p_type\", data=ndf)"
   ]
  },
  {
   "cell_type": "markdown",
   "metadata": {},
   "source": [
    "## 앱 사용여부 비교\n",
    "- Y(사용)\t: 1293\n",
    "- N(사용안함)\t: 175\n",
    "- 대다수의 이용자들이 앱을 사용하여 품목 대여"
   ]
  },
  {
   "cell_type": "code",
   "execution_count": 335,
   "metadata": {},
   "outputs": [
    {
     "data": {
      "text/html": [
       "<div>\n",
       "<style scoped>\n",
       "    .dataframe tbody tr th:only-of-type {\n",
       "        vertical-align: middle;\n",
       "    }\n",
       "\n",
       "    .dataframe tbody tr th {\n",
       "        vertical-align: top;\n",
       "    }\n",
       "\n",
       "    .dataframe thead th {\n",
       "        text-align: right;\n",
       "    }\n",
       "</style>\n",
       "<table border=\"1\" class=\"dataframe\">\n",
       "  <thead>\n",
       "    <tr style=\"text-align: right;\">\n",
       "      <th></th>\n",
       "      <th>app_yn</th>\n",
       "    </tr>\n",
       "  </thead>\n",
       "  <tbody>\n",
       "    <tr>\n",
       "      <th>Y</th>\n",
       "      <td>1293</td>\n",
       "    </tr>\n",
       "    <tr>\n",
       "      <th>N</th>\n",
       "      <td>176</td>\n",
       "    </tr>\n",
       "  </tbody>\n",
       "</table>\n",
       "</div>"
      ],
      "text/plain": [
       "   app_yn\n",
       "Y    1293\n",
       "N     176"
      ]
     },
     "execution_count": 335,
     "metadata": {},
     "output_type": "execute_result"
    }
   ],
   "source": [
    "ndf['app_yn'].value_counts().to_frame()"
   ]
  },
  {
   "cell_type": "code",
   "execution_count": 336,
   "metadata": {},
   "outputs": [
    {
     "data": {
      "text/plain": [
       "<matplotlib.axes._subplots.AxesSubplot at 0x17a0b030388>"
      ]
     },
     "execution_count": 336,
     "metadata": {},
     "output_type": "execute_result"
    },
    {
     "data": {
      "image/png": "[encoded data removed]",
      "text/plain": [
       "<Figure size 720x576 with 1 Axes>"
      ]
     },
     "metadata": {},
     "output_type": "display_data"
    }
   ],
   "source": [
    "plt.figure(figsize=(10,8))\n",
    "sns.countplot(x=\"app_yn\", data=ndf)"
   ]
  },
  {
   "cell_type": "markdown",
   "metadata": {},
   "source": [
    "## 가장 많이 대여한 Top10 브랜드\n",
    "- 구찌, 샤넬, 생로랑, 루이비통, 프라다, 버버리, 입생로랑, 톰브라운, 펜디, 셀린느 순"
   ]
  },
  {
   "cell_type": "code",
   "execution_count": 337,
   "metadata": {},
   "outputs": [
    {
     "data": {
      "text/html": [
       "<div>\n",
       "<style scoped>\n",
       "    .dataframe tbody tr th:only-of-type {\n",
       "        vertical-align: middle;\n",
       "    }\n",
       "\n",
       "    .dataframe tbody tr th {\n",
       "        vertical-align: top;\n",
       "    }\n",
       "\n",
       "    .dataframe thead th {\n",
       "        text-align: right;\n",
       "    }\n",
       "</style>\n",
       "<table border=\"1\" class=\"dataframe\">\n",
       "  <thead>\n",
       "    <tr style=\"text-align: right;\">\n",
       "      <th></th>\n",
       "      <th>brandnm</th>\n",
       "    </tr>\n",
       "  </thead>\n",
       "  <tbody>\n",
       "    <tr>\n",
       "      <th>Gucci</th>\n",
       "      <td>233</td>\n",
       "    </tr>\n",
       "    <tr>\n",
       "      <th>Chanel</th>\n",
       "      <td>91</td>\n",
       "    </tr>\n",
       "    <tr>\n",
       "      <th>Saint Laurent</th>\n",
       "      <td>86</td>\n",
       "    </tr>\n",
       "    <tr>\n",
       "      <th>Louis Vuitton</th>\n",
       "      <td>79</td>\n",
       "    </tr>\n",
       "    <tr>\n",
       "      <th>Prada</th>\n",
       "      <td>58</td>\n",
       "    </tr>\n",
       "    <tr>\n",
       "      <th>Burberry</th>\n",
       "      <td>53</td>\n",
       "    </tr>\n",
       "    <tr>\n",
       "      <th>Yves Saint Laurent</th>\n",
       "      <td>38</td>\n",
       "    </tr>\n",
       "    <tr>\n",
       "      <th>Thom Browne</th>\n",
       "      <td>33</td>\n",
       "    </tr>\n",
       "    <tr>\n",
       "      <th>Fendi</th>\n",
       "      <td>30</td>\n",
       "    </tr>\n",
       "    <tr>\n",
       "      <th>Celine</th>\n",
       "      <td>28</td>\n",
       "    </tr>\n",
       "  </tbody>\n",
       "</table>\n",
       "</div>"
      ],
      "text/plain": [
       "                    brandnm\n",
       "Gucci                   233\n",
       "Chanel                   91\n",
       "Saint Laurent            86\n",
       "Louis Vuitton            79\n",
       "Prada                    58\n",
       "Burberry                 53\n",
       "Yves Saint Laurent       38\n",
       "Thom Browne              33\n",
       "Fendi                    30\n",
       "Celine                   28"
      ]
     },
     "execution_count": 337,
     "metadata": {},
     "output_type": "execute_result"
    }
   ],
   "source": [
    "brand_top10 = ndf['brandnm'].value_counts().sort_values(ascending=False).head(10).to_frame()\n",
    "brand_top10"
   ]
  },
  {
   "cell_type": "code",
   "execution_count": 340,
   "metadata": {},
   "outputs": [
    {
     "data": {
      "text/plain": [
       "Text(0.5, 0, '브랜드명')"
      ]
     },
     "execution_count": 340,
     "metadata": {},
     "output_type": "execute_result"
    },
    {
     "data": {
      "image/png": "[encoded data removed]",
      "text/plain": [
       "<Figure size 1008x576 with 1 Axes>"
      ]
     },
     "metadata": {},
     "output_type": "display_data"
    }
   ],
   "source": [
    "plt.figure(figsize=(14,8))\n",
    "sns.barplot(x=brand_top10.index, y='brandnm', data=brand_top10)\n",
    "plt.ylabel('대여횟수', fontsize=10)\n",
    "plt.xlabel('브랜드명', fontsize=10)"
   ]
  },
  {
   "cell_type": "markdown",
   "metadata": {},
   "source": [
    "## Top10 브랜드에서 가장 많이 대여한 품목 분석\n",
    "- 버버리는 아우터, 톰브라운은 상의의 비중이 높고, 나머지 브랜드는 가방의 비중이 압도적으로 높음"
   ]
  },
  {
   "cell_type": "code",
   "execution_count": 341,
   "metadata": {},
   "outputs": [
    {
     "data": {
      "text/html": [
       "<div>\n",
       "<style scoped>\n",
       "    .dataframe tbody tr th:only-of-type {\n",
       "        vertical-align: middle;\n",
       "    }\n",
       "\n",
       "    .dataframe tbody tr th {\n",
       "        vertical-align: top;\n",
       "    }\n",
       "\n",
       "    .dataframe thead th {\n",
       "        text-align: right;\n",
       "    }\n",
       "</style>\n",
       "<table border=\"1\" class=\"dataframe\">\n",
       "  <thead>\n",
       "    <tr style=\"text-align: right;\">\n",
       "      <th></th>\n",
       "      <th>brandnm</th>\n",
       "      <th>sub_type</th>\n",
       "      <th>count</th>\n",
       "    </tr>\n",
       "  </thead>\n",
       "  <tbody>\n",
       "    <tr>\n",
       "      <th>0</th>\n",
       "      <td>Burberry</td>\n",
       "      <td>O</td>\n",
       "      <td>30</td>\n",
       "    </tr>\n",
       "    <tr>\n",
       "      <th>1</th>\n",
       "      <td>Burberry</td>\n",
       "      <td>BA</td>\n",
       "      <td>10</td>\n",
       "    </tr>\n",
       "    <tr>\n",
       "      <th>2</th>\n",
       "      <td>Burberry</td>\n",
       "      <td>T</td>\n",
       "      <td>10</td>\n",
       "    </tr>\n",
       "    <tr>\n",
       "      <th>3</th>\n",
       "      <td>Burberry</td>\n",
       "      <td>D</td>\n",
       "      <td>2</td>\n",
       "    </tr>\n",
       "    <tr>\n",
       "      <th>4</th>\n",
       "      <td>Burberry</td>\n",
       "      <td>B</td>\n",
       "      <td>1</td>\n",
       "    </tr>\n",
       "    <tr>\n",
       "      <th>5</th>\n",
       "      <td>Celine</td>\n",
       "      <td>BA</td>\n",
       "      <td>20</td>\n",
       "    </tr>\n",
       "    <tr>\n",
       "      <th>6</th>\n",
       "      <td>Celine</td>\n",
       "      <td>O</td>\n",
       "      <td>7</td>\n",
       "    </tr>\n",
       "    <tr>\n",
       "      <th>7</th>\n",
       "      <td>Celine</td>\n",
       "      <td>T</td>\n",
       "      <td>1</td>\n",
       "    </tr>\n",
       "    <tr>\n",
       "      <th>8</th>\n",
       "      <td>Chanel</td>\n",
       "      <td>BA</td>\n",
       "      <td>75</td>\n",
       "    </tr>\n",
       "    <tr>\n",
       "      <th>9</th>\n",
       "      <td>Chanel</td>\n",
       "      <td>O</td>\n",
       "      <td>13</td>\n",
       "    </tr>\n",
       "    <tr>\n",
       "      <th>10</th>\n",
       "      <td>Chanel</td>\n",
       "      <td>T</td>\n",
       "      <td>2</td>\n",
       "    </tr>\n",
       "    <tr>\n",
       "      <th>11</th>\n",
       "      <td>Chanel</td>\n",
       "      <td>TP</td>\n",
       "      <td>1</td>\n",
       "    </tr>\n",
       "    <tr>\n",
       "      <th>12</th>\n",
       "      <td>Fendi</td>\n",
       "      <td>BA</td>\n",
       "      <td>23</td>\n",
       "    </tr>\n",
       "    <tr>\n",
       "      <th>13</th>\n",
       "      <td>Fendi</td>\n",
       "      <td>T</td>\n",
       "      <td>3</td>\n",
       "    </tr>\n",
       "    <tr>\n",
       "      <th>14</th>\n",
       "      <td>Fendi</td>\n",
       "      <td>D</td>\n",
       "      <td>2</td>\n",
       "    </tr>\n",
       "    <tr>\n",
       "      <th>15</th>\n",
       "      <td>Fendi</td>\n",
       "      <td>O</td>\n",
       "      <td>1</td>\n",
       "    </tr>\n",
       "    <tr>\n",
       "      <th>16</th>\n",
       "      <td>Fendi</td>\n",
       "      <td>TP</td>\n",
       "      <td>1</td>\n",
       "    </tr>\n",
       "    <tr>\n",
       "      <th>17</th>\n",
       "      <td>Gucci</td>\n",
       "      <td>BA</td>\n",
       "      <td>204</td>\n",
       "    </tr>\n",
       "    <tr>\n",
       "      <th>18</th>\n",
       "      <td>Gucci</td>\n",
       "      <td>T</td>\n",
       "      <td>14</td>\n",
       "    </tr>\n",
       "    <tr>\n",
       "      <th>19</th>\n",
       "      <td>Gucci</td>\n",
       "      <td>D</td>\n",
       "      <td>11</td>\n",
       "    </tr>\n",
       "    <tr>\n",
       "      <th>20</th>\n",
       "      <td>Gucci</td>\n",
       "      <td>O</td>\n",
       "      <td>2</td>\n",
       "    </tr>\n",
       "    <tr>\n",
       "      <th>21</th>\n",
       "      <td>Gucci</td>\n",
       "      <td>B</td>\n",
       "      <td>1</td>\n",
       "    </tr>\n",
       "    <tr>\n",
       "      <th>22</th>\n",
       "      <td>Gucci</td>\n",
       "      <td>TP</td>\n",
       "      <td>1</td>\n",
       "    </tr>\n",
       "    <tr>\n",
       "      <th>23</th>\n",
       "      <td>Louis Vuitton</td>\n",
       "      <td>BA</td>\n",
       "      <td>77</td>\n",
       "    </tr>\n",
       "    <tr>\n",
       "      <th>24</th>\n",
       "      <td>Louis Vuitton</td>\n",
       "      <td>O</td>\n",
       "      <td>2</td>\n",
       "    </tr>\n",
       "    <tr>\n",
       "      <th>25</th>\n",
       "      <td>Prada</td>\n",
       "      <td>BA</td>\n",
       "      <td>38</td>\n",
       "    </tr>\n",
       "    <tr>\n",
       "      <th>26</th>\n",
       "      <td>Prada</td>\n",
       "      <td>O</td>\n",
       "      <td>16</td>\n",
       "    </tr>\n",
       "    <tr>\n",
       "      <th>27</th>\n",
       "      <td>Prada</td>\n",
       "      <td>T</td>\n",
       "      <td>4</td>\n",
       "    </tr>\n",
       "    <tr>\n",
       "      <th>28</th>\n",
       "      <td>Saint Laurent</td>\n",
       "      <td>BA</td>\n",
       "      <td>84</td>\n",
       "    </tr>\n",
       "    <tr>\n",
       "      <th>29</th>\n",
       "      <td>Saint Laurent</td>\n",
       "      <td>O</td>\n",
       "      <td>1</td>\n",
       "    </tr>\n",
       "    <tr>\n",
       "      <th>30</th>\n",
       "      <td>Saint Laurent</td>\n",
       "      <td>T</td>\n",
       "      <td>1</td>\n",
       "    </tr>\n",
       "    <tr>\n",
       "      <th>31</th>\n",
       "      <td>Thom Browne</td>\n",
       "      <td>T</td>\n",
       "      <td>17</td>\n",
       "    </tr>\n",
       "    <tr>\n",
       "      <th>32</th>\n",
       "      <td>Thom Browne</td>\n",
       "      <td>O</td>\n",
       "      <td>13</td>\n",
       "    </tr>\n",
       "    <tr>\n",
       "      <th>33</th>\n",
       "      <td>Thom Browne</td>\n",
       "      <td>B</td>\n",
       "      <td>3</td>\n",
       "    </tr>\n",
       "    <tr>\n",
       "      <th>34</th>\n",
       "      <td>Yves Saint Laurent</td>\n",
       "      <td>BA</td>\n",
       "      <td>34</td>\n",
       "    </tr>\n",
       "    <tr>\n",
       "      <th>35</th>\n",
       "      <td>Yves Saint Laurent</td>\n",
       "      <td>T</td>\n",
       "      <td>2</td>\n",
       "    </tr>\n",
       "    <tr>\n",
       "      <th>36</th>\n",
       "      <td>Yves Saint Laurent</td>\n",
       "      <td>B</td>\n",
       "      <td>1</td>\n",
       "    </tr>\n",
       "    <tr>\n",
       "      <th>37</th>\n",
       "      <td>Yves Saint Laurent</td>\n",
       "      <td>O</td>\n",
       "      <td>1</td>\n",
       "    </tr>\n",
       "  </tbody>\n",
       "</table>\n",
       "</div>"
      ],
      "text/plain": [
       "               brandnm sub_type  count\n",
       "0             Burberry        O     30\n",
       "1             Burberry       BA     10\n",
       "2             Burberry        T     10\n",
       "3             Burberry        D      2\n",
       "4             Burberry        B      1\n",
       "5               Celine       BA     20\n",
       "6               Celine        O      7\n",
       "7               Celine        T      1\n",
       "8               Chanel       BA     75\n",
       "9               Chanel        O     13\n",
       "10              Chanel        T      2\n",
       "11              Chanel       TP      1\n",
       "12               Fendi       BA     23\n",
       "13               Fendi        T      3\n",
       "14               Fendi        D      2\n",
       "15               Fendi        O      1\n",
       "16               Fendi       TP      1\n",
       "17               Gucci       BA    204\n",
       "18               Gucci        T     14\n",
       "19               Gucci        D     11\n",
       "20               Gucci        O      2\n",
       "21               Gucci        B      1\n",
       "22               Gucci       TP      1\n",
       "23       Louis Vuitton       BA     77\n",
       "24       Louis Vuitton        O      2\n",
       "25               Prada       BA     38\n",
       "26               Prada        O     16\n",
       "27               Prada        T      4\n",
       "28       Saint Laurent       BA     84\n",
       "29       Saint Laurent        O      1\n",
       "30       Saint Laurent        T      1\n",
       "31         Thom Browne        T     17\n",
       "32         Thom Browne        O     13\n",
       "33         Thom Browne        B      3\n",
       "34  Yves Saint Laurent       BA     34\n",
       "35  Yves Saint Laurent        T      2\n",
       "36  Yves Saint Laurent        B      1\n",
       "37  Yves Saint Laurent        O      1"
      ]
     },
     "execution_count": 341,
     "metadata": {},
     "output_type": "execute_result"
    }
   ],
   "source": [
    "brand_item = ndf.groupby(ndf['brandnm'])['sub_type'].value_counts().loc[['Gucci','Chanel','Saint Laurent','Louis Vuitton','Prada',\n",
    "                                                            'Burberry','Yves Saint Laurent','Thom Browne','Fendi','Celine']].to_frame()\n",
    "brand_item.columns=['count']\n",
    "brand_item.reset_index(inplace=True)\n",
    "brand_item"
   ]
  },
  {
   "cell_type": "code",
   "execution_count": 342,
   "metadata": {},
   "outputs": [
    {
     "data": {
      "text/plain": [
       "Text(0.5, 0, '브랜드명')"
      ]
     },
     "execution_count": 342,
     "metadata": {},
     "output_type": "execute_result"
    },
    {
     "data": {
      "image/png": "[encoded data removed]",
      "text/plain": [
       "<Figure size 1008x576 with 1 Axes>"
      ]
     },
     "metadata": {},
     "output_type": "display_data"
    }
   ],
   "source": [
    "plt.figure(figsize=(14,8))\n",
    "sns.barplot(x='brandnm', y='count', hue='sub_type', dodge=False, data=brand_item)\n",
    "plt.ylabel('대여횟수', fontsize=10)\n",
    "plt.xlabel('브랜드명', fontsize=10)"
   ]
  },
  {
   "cell_type": "markdown",
   "metadata": {},
   "source": [
    "## 회원가입 날짜에 따른 대여 횟수\n",
    "- 신규 유저일수록 대여를 더 많이 하는 것을 알 수 있음"
   ]
  },
  {
   "cell_type": "code",
   "execution_count": 343,
   "metadata": {},
   "outputs": [
    {
     "data": {
      "image/png": "[encoded data removed]",
      "text/plain": [
       "<Figure size 1440x720 with 1 Axes>"
      ]
     },
     "metadata": {},
     "output_type": "display_data"
    }
   ],
   "source": [
    "reg_time = ndf.groupby(ndf['reg_date'])['goodsnm'].count()\n",
    "plt.figure(figsize=(20,10))\n",
    "sns.lineplot(reg_time.index, reg_time.values)\n",
    "plt.grid()\n",
    "plt.legend('대여횟수',loc='best', fontsize=12)\n",
    "plt.title('회원가입 날짜에 따른 대여횟수', fontsize=18)\n",
    "plt.ylabel('대여횟수', fontsize=16)\n",
    "plt.xlabel('회원가입 날짜', fontsize=16)\n",
    "plt.show()"
   ]
  },
  {
   "cell_type": "markdown",
   "metadata": {},
   "source": [
    "## 최근 3개월 간 대여 횟수\n",
    "- 주기성이 보임"
   ]
  },
  {
   "cell_type": "code",
   "execution_count": 344,
   "metadata": {},
   "outputs": [
    {
     "data": {
      "image/png": "[encoded data removed]",
      "text/plain": [
       "<Figure size 1440x720 with 1 Axes>"
      ]
     },
     "metadata": {},
     "output_type": "display_data"
    }
   ],
   "source": [
    "order_time = ndf.groupby(ndf['order_date'])['goodsnm'].count()\n",
    "plt.figure(figsize=(20,10))\n",
    "sns.lineplot(order_time.index, order_time.values)\n",
    "plt.grid()\n",
    "plt.legend('대여횟수',loc='best', fontsize=12)\n",
    "plt.title('최근 3개월 간 대여 횟수', fontsize=18)\n",
    "plt.ylabel('대여횟수', fontsize=16)\n",
    "plt.xlabel('주문 날짜', fontsize=16)\n",
    "plt.show()"
   ]
  },
  {
   "cell_type": "markdown",
   "metadata": {},
   "source": [
    "## 주기성을 보기 위해 요일별 대여 횟수 살펴보기\n",
    "- 월요일부터 수요일까지 증가하다가 목요일부터 감소\n",
    "- 주말에는 평일보다 대여 횟수가 현저히 적음"
   ]
  },
  {
   "cell_type": "code",
   "execution_count": 345,
   "metadata": {},
   "outputs": [],
   "source": [
    "ndf['order_month'] = [k for k in ndf['order_date'].dt.month]\n",
    "ndf['order_day'] = [k for k in ndf['order_date'].dt.day]\n",
    "ndf['order_dayofweek'] = [k for k in ndf['order_date'].dt.dayofweek]"
   ]
  },
  {
   "cell_type": "code",
   "execution_count": 346,
   "metadata": {
    "scrolled": false
   },
   "outputs": [
    {
     "data": {
      "image/png": "[encoded data removed]",
      "text/plain": [
       "<Figure size 1440x720 with 1 Axes>"
      ]
     },
     "metadata": {},
     "output_type": "display_data"
    }
   ],
   "source": [
    "week_order = ndf.groupby(ndf['order_dayofweek'])['brandnm'].count()\n",
    "plt.figure(figsize=(20,10))\n",
    "sns.lineplot(week_order.index, week_order.values)\n",
    "plt.grid()\n",
    "plt.legend('대여횟수',loc='best', fontsize=12)\n",
    "plt.title('요일별 대여 횟수', fontsize=18)\n",
    "plt.ylabel('대여횟수', fontsize=16)\n",
    "plt.xlabel('주문 요일', fontsize=16)\n",
    "plt.show()"
   ]
  },
  {
   "cell_type": "markdown",
   "metadata": {},
   "source": [
    "* 요일 : {월:0, 화:1, 수:2, 목:3, 금:4, 토:5, 일:6}"
   ]
  },
  {
   "cell_type": "markdown",
   "metadata": {},
   "source": [
    "## 월별 대여 횟수 살펴보기\n",
    "- 1월부터 3월까지 대여 횟수가 꾸준히 증가"
   ]
  },
  {
   "cell_type": "code",
   "execution_count": 347,
   "metadata": {},
   "outputs": [
    {
     "data": {
      "text/plain": [
       "<matplotlib.axes._subplots.AxesSubplot at 0x17a0ae49188>"
      ]
     },
     "execution_count": 347,
     "metadata": {},
     "output_type": "execute_result"
    },
    {
     "data": {
      "image/png": "[encoded data removed]",
      "text/plain": [
       "<Figure size 720x576 with 1 Axes>"
      ]
     },
     "metadata": {},
     "output_type": "display_data"
    }
   ],
   "source": [
    "plt.figure(figsize=(10,8))\n",
    "sns.countplot(x=\"order_month\", data=ndf)"
   ]
  },
  {
   "cell_type": "markdown",
   "metadata": {},
   "source": [
    "## 일별 대여 횟수 살펴보기"
   ]
  },
  {
   "cell_type": "code",
   "execution_count": 348,
   "metadata": {},
   "outputs": [
    {
     "data": {
      "text/plain": [
       "<matplotlib.axes._subplots.AxesSubplot at 0x17a0ae95ec8>"
      ]
     },
     "execution_count": 348,
     "metadata": {},
     "output_type": "execute_result"
    },
    {
     "data": {
      "image/png": "[encoded data removed]",
      "text/plain": [
       "<Figure size 720x576 with 1 Axes>"
      ]
     },
     "metadata": {},
     "output_type": "display_data"
    }
   ],
   "source": [
    "plt.figure(figsize=(10,8))\n",
    "sns.countplot(x=\"order_day\", data=ndf)"
   ]
  },
  {
   "cell_type": "markdown",
   "metadata": {},
   "source": [
    "## 주문 수 Top10 유저 분석 \n",
    "- 주문 수가 많은 회원들을 추출했더니 10명 전부 하루에 다 주문한 것을 알 수 있음 "
   ]
  },
  {
   "cell_type": "code",
   "execution_count": 349,
   "metadata": {},
   "outputs": [
    {
     "data": {
      "text/html": [
       "<div>\n",
       "<style scoped>\n",
       "    .dataframe tbody tr th:only-of-type {\n",
       "        vertical-align: middle;\n",
       "    }\n",
       "\n",
       "    .dataframe tbody tr th {\n",
       "        vertical-align: top;\n",
       "    }\n",
       "\n",
       "    .dataframe thead th {\n",
       "        text-align: right;\n",
       "    }\n",
       "</style>\n",
       "<table border=\"1\" class=\"dataframe\">\n",
       "  <thead>\n",
       "    <tr style=\"text-align: right;\">\n",
       "      <th></th>\n",
       "      <th>goodsnm</th>\n",
       "    </tr>\n",
       "    <tr>\n",
       "      <th>USER</th>\n",
       "      <th></th>\n",
       "    </tr>\n",
       "  </thead>\n",
       "  <tbody>\n",
       "    <tr>\n",
       "      <th>a1149461</th>\n",
       "      <td>11</td>\n",
       "    </tr>\n",
       "    <tr>\n",
       "      <th>a1149583</th>\n",
       "      <td>10</td>\n",
       "    </tr>\n",
       "    <tr>\n",
       "      <th>a1142677</th>\n",
       "      <td>9</td>\n",
       "    </tr>\n",
       "    <tr>\n",
       "      <th>a189404</th>\n",
       "      <td>7</td>\n",
       "    </tr>\n",
       "    <tr>\n",
       "      <th>a1143701</th>\n",
       "      <td>7</td>\n",
       "    </tr>\n",
       "    <tr>\n",
       "      <th>a187924</th>\n",
       "      <td>6</td>\n",
       "    </tr>\n",
       "    <tr>\n",
       "      <th>a1129550</th>\n",
       "      <td>6</td>\n",
       "    </tr>\n",
       "    <tr>\n",
       "      <th>a1149542</th>\n",
       "      <td>6</td>\n",
       "    </tr>\n",
       "    <tr>\n",
       "      <th>a1140758</th>\n",
       "      <td>5</td>\n",
       "    </tr>\n",
       "    <tr>\n",
       "      <th>a1146366</th>\n",
       "      <td>4</td>\n",
       "    </tr>\n",
       "  </tbody>\n",
       "</table>\n",
       "</div>"
      ],
      "text/plain": [
       "          goodsnm\n",
       "USER             \n",
       "a1149461       11\n",
       "a1149583       10\n",
       "a1142677        9\n",
       "a189404         7\n",
       "a1143701        7\n",
       "a187924         6\n",
       "a1129550        6\n",
       "a1149542        6\n",
       "a1140758        5\n",
       "a1146366        4"
      ]
     },
     "execution_count": 349,
     "metadata": {},
     "output_type": "execute_result"
    }
   ],
   "source": [
    "user_top10 = ndf.groupby(['USER'])['goodsnm'].count().sort_values(ascending=False).head(10).to_frame()\n",
    "user_top10"
   ]
  },
  {
   "cell_type": "code",
   "execution_count": 350,
   "metadata": {},
   "outputs": [
    {
     "data": {
      "text/plain": [
       "Text(0.5, 0, '유저')"
      ]
     },
     "execution_count": 350,
     "metadata": {},
     "output_type": "execute_result"
    },
    {
     "data": {
      "image/png": "[encoded data removed]",
      "text/plain": [
       "<Figure size 1008x576 with 1 Axes>"
      ]
     },
     "metadata": {},
     "output_type": "display_data"
    }
   ],
   "source": [
    "plt.figure(figsize=(14,8))\n",
    "sns.barplot(x=user_top10.index, y='goodsnm', data=user_top10)\n",
    "plt.ylabel('대여횟수', fontsize=10)\n",
    "plt.xlabel('유저', fontsize=10)"
   ]
  },
  {
   "cell_type": "code",
   "execution_count": null,
   "metadata": {},
   "outputs": [],
   "source": []
  },
  {
   "cell_type": "code",
   "execution_count": null,
   "metadata": {},
   "outputs": [],
   "source": []
  }
 ],
 "metadata": {
  "kernelspec": {
   "display_name": "Python 3",
   "language": "python",
   "name": "python3"
  },
  "language_info": {
   "codemirror_mode": {
    "name": "ipython",
    "version": 3
   },
   "file_extension": ".py",
   "mimetype": "text/x-python",
   "name": "python",
   "nbconvert_exporter": "python",
   "pygments_lexer": "ipython3",
   "version": "3.7.6"
  }
 },
 "nbformat": 4,
 "nbformat_minor": 4
}
