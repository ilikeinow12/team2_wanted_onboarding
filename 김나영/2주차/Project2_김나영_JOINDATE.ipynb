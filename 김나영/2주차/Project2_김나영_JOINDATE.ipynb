{
 "cells": [
  {
   "cell_type": "markdown",
   "metadata": {},
   "source": [
    "**Abstract** <br>\n",
    "JOIN_DATE와 관련한 분석 \n",
    "\n",
    "- 모델에 대한 기본 변수 : D_TYPE, GOODS_TYPE, AD1\n",
    "- 추가적으로 'JOIN_DATE' 변수를 통한 분석을 시행한다.\n",
    "    - 가입한 일수별, 가입한 주수별, 가입 달별 \n",
    "\n",
    "분석 방법\n",
    "1. train data 5-fold cross varidation\n",
    "2. 기본 변수만을 가진 모델 생성\n",
    "3. 'JOIN_DATE'변수에 대한 추가적인 변수 생성\n",
    "4. 추가 생성 변수를 추가하여 모델 성능확인\n",
    "5. 최종 모형 변수 결정"
   ]
  },
  {
   "cell_type": "code",
   "execution_count": 63,
   "metadata": {},
   "outputs": [],
   "source": [
    "import numpy as np\n",
    "import pandas as pd\n",
    "import matplotlib.pyplot as plt\n",
    "import seaborn as sns\n",
    "import missingno as msno\n",
    "\n",
    "#ignore warnings\n",
    "import warnings\n",
    "warnings.filterwarnings('ignore')\n",
    "\n",
    "import matplotlib.pyplot as plt"
   ]
  },
  {
   "cell_type": "code",
   "execution_count": 64,
   "metadata": {},
   "outputs": [],
   "source": [
    "# 라이브러리 import \n",
    "from sklearn import preprocessing\n",
    "from sklearn.ensemble import RandomForestRegressor\n",
    "from sklearn.metrics import mean_squared_error\n",
    "from lightgbm import LGBMRegressor\n",
    "from sklearn.metrics import mean_squared_error, mean_absolute_error"
   ]
  },
  {
   "cell_type": "code",
   "execution_count": 65,
   "metadata": {},
   "outputs": [],
   "source": [
    "#한글 폰트 깨짐 방지\n",
    "def get_font_family():\n",
    "    \"\"\"\n",
    "    시스템 환경에 따른 기본 폰트명을 반환하는 함수\n",
    "    \"\"\"\n",
    "    import platform\n",
    "    system_name = platform.system()\n",
    "    if system_name == \"Darwin\" :\n",
    "        font_family = \"AppleGothic\"\n",
    "    elif system_name == \"Windows\":\n",
    "        font_family = \"Malgun Gothic\"\n",
    "    else:\n",
    "        !apt-get update -qq\n",
    "        !apt-get install fonts-nanum -qq  > /dev/null\n",
    "        import matplotlib.font_manager as fm\n",
    "        fontpath = '/usr/share/fonts/truetype/nanum/NanumBarunGothic.ttf'\n",
    "        font = fm.FontProperties(fname=fontpath, size=9)\n",
    "        fm._rebuild()\n",
    "        font_family = \"NanumBarunGothic\"\n",
    "    return font_family\n",
    "get_font_family()\n",
    "font_family = get_font_family()\n",
    "# 폰트설정\n",
    "plt.rc('font', family=font_family)\n",
    "# 마이너스폰트 설정\n",
    "plt.rc('axes', unicode_minus=False)"
   ]
  },
  {
   "cell_type": "code",
   "execution_count": 66,
   "metadata": {},
   "outputs": [],
   "source": [
    "# seed 설정\n",
    "np.random.seed(42)"
   ]
  },
  {
   "cell_type": "code",
   "execution_count": 67,
   "metadata": {},
   "outputs": [],
   "source": [
    "# 데이터 불러오기\n",
    "df = pd.read_csv('./모두컴퍼니_기술과제/실전db.csv')\n",
    "\n",
    "# JOIN_DATE, DATE 를 날짜형 변수로 바꾸기\n",
    "df['JOIN_DATE'] = pd.to_datetime(df['JOIN_DATE'])\n",
    "df['DATE'] = pd.to_datetime(df['DATE'])\n",
    "\n",
    "## 파생변수 생성\n",
    "df['ELAPSED_DAY'] = (df['DATE']-df['JOIN_DATE']).dt.days\n",
    "df['ELAPSED_WEEK'] = (df['ELAPSED_DAY'] -1)//7 + 1\n",
    "\n",
    "df['MONTH'] = df['DATE'].dt.month\n",
    "df['DAY'] = df['DATE'].dt.day"
   ]
  },
  {
   "cell_type": "code",
   "execution_count": 68,
   "metadata": {},
   "outputs": [],
   "source": [
    "# Feature Encoding 함수 만들기 \n",
    "def feature_enc(dataframe):\n",
    "    le = preprocessing.LabelEncoder()\n",
    "\n",
    "    dataframe['D_TYPE'] = le.fit_transform(dataframe['D_TYPE'])\n",
    "    dataframe['GOODS_TYPE'] = le.fit_transform(dataframe['GOODS_TYPE'])\n",
    "    dataframe['AD1'] = le.fit_transform(dataframe['AD1'])"
   ]
  },
  {
   "cell_type": "code",
   "execution_count": 69,
   "metadata": {},
   "outputs": [],
   "source": [
    "feature_enc(df)"
   ]
  },
  {
   "cell_type": "markdown",
   "metadata": {},
   "source": [
    "# 기본모형 "
   ]
  },
  {
   "cell_type": "code",
   "execution_count": 70,
   "metadata": {},
   "outputs": [
    {
     "name": "stdout",
     "output_type": "stream",
     "text": [
      "train MSE : 0.1325405999475192\n",
      "train MAE : 0.04773630148640207\n",
      "MSE : 0.3765204558618609\n",
      "MAE : 0.05391399509577541\n"
     ]
    }
   ],
   "source": [
    "# train/test 분리\n",
    "df_train = df[df['DATE'] <= '2020-09-30']\n",
    "df_test =  df[df['DATE'] > '2020-09-30']\n",
    "\n",
    "train_x = df_train.drop('COUNT',axis=1)\n",
    "train_y = df_train[['COUNT']]\n",
    "test_x = df_test.drop('COUNT',axis=1)\n",
    "test_y = df_test[['COUNT']]\n",
    "\n",
    "# 필요없는 컬럼제거\n",
    "train_x = train_x.drop(['USER_ID','JOIN_DATE','STORE_ID','DATE','ELAPSED_DAY','ELAPSED_WEEK','MONTH','DAY'],axis=1)\n",
    "test_x = test_x.drop(['USER_ID','JOIN_DATE','STORE_ID','DATE','ELAPSED_DAY','ELAPSED_WEEK','MONTH','DAY'],axis=1)\n",
    "\n",
    "# lightGBM 모형\n",
    "lgbr = LGBMRegressor(n_estimators=400, random_state=42) \n",
    "lgbr.fit(train_x, train_y)\n",
    "y_train = lgbr.predict(train_x) \n",
    "y_pred = lgbr.predict(test_x)\n",
    "\n",
    "# 랜덤포레스트 모형\n",
    "#rfr = RandomForestRegressor()\n",
    "#rfr.fit(x_train, y_train)\n",
    "#y_train = rfr.predict(train_x) \n",
    "#y_pred = rfr.predict(x_test)\n",
    "\n",
    "t_MSE1 = mean_squared_error(train_y, y_train)\n",
    "t_MAE1 = mean_absolute_error(train_y, y_train)\n",
    "MSE1 = mean_squared_error(test_y, y_pred)\n",
    "MAE1 = mean_absolute_error(test_y, y_pred)\n",
    "\n",
    "print('train MSE :', t_MSE1)\n",
    "print('train MAE :', t_MAE1)\n",
    "print('MSE :', MSE1)\n",
    "print('MAE :', MAE1)"
   ]
  },
  {
   "cell_type": "markdown",
   "metadata": {},
   "source": [
    "## 기본모형 + 가입일 수 "
   ]
  },
  {
   "cell_type": "code",
   "execution_count": 71,
   "metadata": {},
   "outputs": [
    {
     "name": "stdout",
     "output_type": "stream",
     "text": [
      "train MSE : 0.046291666024079685\n",
      "train MAE : 0.04024984410414615\n",
      "MSE : 0.18025238402113586\n",
      "MAE : 0.0478392684848961\n"
     ]
    }
   ],
   "source": [
    "# train/test 분리\n",
    "df_train = df[df['DATE'] <= '2020-09-30']\n",
    "df_test =  df[df['DATE'] > '2020-09-30']\n",
    "\n",
    "train_x = df_train.drop('COUNT',axis=1)\n",
    "train_y = df_train[['COUNT']]\n",
    "test_x = df_test.drop('COUNT',axis=1)\n",
    "test_y = df_test[['COUNT']]\n",
    "\n",
    "# 필요없는 컬럼제거\n",
    "train_x = train_x.drop(['USER_ID','JOIN_DATE','STORE_ID','DATE','ELAPSED_WEEK','MONTH','DAY'],axis=1)\n",
    "test_x = test_x.drop(['USER_ID','JOIN_DATE','STORE_ID','DATE','ELAPSED_WEEK','MONTH','DAY'],axis=1)\n",
    "\n",
    "lgbr = LGBMRegressor(n_estimators=400, random_state=42) \n",
    "lgbr.fit(train_x, train_y)\n",
    "y_train = lgbr.predict(train_x) \n",
    "y_pred = lgbr.predict(test_x)\n",
    "\n",
    "t_MSE2 = mean_squared_error(train_y, y_train)\n",
    "t_MAE2 = mean_absolute_error(train_y, y_train)\n",
    "MSE2 = mean_squared_error(test_y, y_pred)\n",
    "MAE2 = mean_absolute_error(test_y, y_pred)\n",
    "\n",
    "print('train MSE :', t_MSE2)\n",
    "print('train MAE :', t_MAE2)\n",
    "print('MSE :', MSE2)\n",
    "print('MAE :', MAE2)"
   ]
  },
  {
   "cell_type": "markdown",
   "metadata": {},
   "source": [
    "## 기본모형 + 가입일수 + 월 + 일 "
   ]
  },
  {
   "cell_type": "code",
   "execution_count": 72,
   "metadata": {},
   "outputs": [
    {
     "name": "stdout",
     "output_type": "stream",
     "text": [
      "train MSE : 0.03804723674368178\n",
      "train MAE : 0.039430308136017646\n",
      "MSE : 0.1714325019413874\n",
      "MAE : 0.050907248725893535\n"
     ]
    }
   ],
   "source": [
    "# train/test 분리\n",
    "df_train = df[df['DATE'] <= '2020-09-30']\n",
    "df_test =  df[df['DATE'] > '2020-09-30']\n",
    "\n",
    "train_x = df_train.drop('COUNT',axis=1)\n",
    "train_y = df_train[['COUNT']]\n",
    "test_x = df_test.drop('COUNT',axis=1)\n",
    "test_y = df_test[['COUNT']]\n",
    "\n",
    "# 필요없는 컬럼제거\n",
    "train_x = train_x.drop(['USER_ID','JOIN_DATE','STORE_ID','DATE','ELAPSED_WEEK'],axis=1)\n",
    "test_x = test_x.drop(['USER_ID','JOIN_DATE','STORE_ID','DATE','ELAPSED_WEEK'],axis=1)\n",
    "\n",
    "lgbr = LGBMRegressor(n_estimators=400, random_state=42) \n",
    "lgbr.fit(train_x, train_y)\n",
    "y_train = lgbr.predict(train_x) \n",
    "y_pred = lgbr.predict(test_x)\n",
    "\n",
    "t_MSE3 = mean_squared_error(train_y, y_train)\n",
    "t_MAE3 = mean_absolute_error(train_y, y_train)\n",
    "MSE3 = mean_squared_error(test_y, y_pred)\n",
    "MAE3 = mean_absolute_error(test_y, y_pred)\n",
    "\n",
    "print('train MSE :', t_MSE3)\n",
    "print('train MAE :', t_MAE3)\n",
    "print('MSE :', MSE3)\n",
    "print('MAE :', MAE3)"
   ]
  },
  {
   "cell_type": "markdown",
   "metadata": {},
   "source": [
    "## 기본모형 + 가입주수 "
   ]
  },
  {
   "cell_type": "code",
   "execution_count": 73,
   "metadata": {},
   "outputs": [
    {
     "name": "stdout",
     "output_type": "stream",
     "text": [
      "train MSE : 0.046899073975519505\n",
      "train MAE : 0.04031551231067027\n",
      "MSE : 0.1761208621176009\n",
      "MAE : 0.04779176945921988\n"
     ]
    }
   ],
   "source": [
    "# train/test 분리\n",
    "df_train = df[df['DATE'] <= '2020-09-30']\n",
    "df_test =  df[df['DATE'] > '2020-09-30']\n",
    "\n",
    "train_x = df_train.drop('COUNT',axis=1)\n",
    "train_y = df_train[['COUNT']]\n",
    "test_x = df_test.drop('COUNT',axis=1)\n",
    "test_y = df_test[['COUNT']]\n",
    "\n",
    "# 필요없는 컬럼제거\n",
    "train_x = train_x.drop(['USER_ID','JOIN_DATE','STORE_ID','DATE','ELAPSED_DAY','MONTH','DAY'],axis=1)\n",
    "test_x = test_x.drop(['USER_ID','JOIN_DATE','STORE_ID','DATE','ELAPSED_DAY','MONTH','DAY'],axis=1)\n",
    "\n",
    "lgbr = LGBMRegressor(n_estimators=400, random_state=42) \n",
    "lgbr.fit(train_x, train_y)\n",
    "y_train = lgbr.predict(train_x) \n",
    "y_pred = lgbr.predict(test_x)\n",
    "\n",
    "t_MSE4 = mean_squared_error(train_y, y_train)\n",
    "t_MAE4 = mean_absolute_error(train_y, y_train)\n",
    "MSE4 = mean_squared_error(test_y, y_pred)\n",
    "MAE4 = mean_absolute_error(test_y, y_pred)\n",
    "\n",
    "print('train MSE :', t_MSE4)\n",
    "print('train MAE :', t_MAE4)\n",
    "print('MSE :', MSE4)\n",
    "print('MAE :', MAE4)"
   ]
  },
  {
   "cell_type": "markdown",
   "metadata": {},
   "source": [
    "## 기본모형 + 가입주수 + 월 + 일"
   ]
  },
  {
   "cell_type": "code",
   "execution_count": 74,
   "metadata": {},
   "outputs": [
    {
     "name": "stdout",
     "output_type": "stream",
     "text": [
      "train MSE : 0.03776090454788581\n",
      "train MAE : 0.03943828347622916\n",
      "MSE : 0.17225495609112312\n",
      "MAE : 0.0508955928206124\n"
     ]
    }
   ],
   "source": [
    "# train/test 분리\n",
    "df_train = df[df['DATE'] <= '2020-09-30']\n",
    "df_test =  df[df['DATE'] > '2020-09-30']\n",
    "\n",
    "train_x = df_train.drop('COUNT',axis=1)\n",
    "train_y = df_train[['COUNT']]\n",
    "test_x = df_test.drop('COUNT',axis=1)\n",
    "test_y = df_test[['COUNT']]\n",
    "\n",
    "# 필요없는 컬럼제거\n",
    "train_x = train_x.drop(['USER_ID','JOIN_DATE','STORE_ID','DATE','ELAPSED_DAY'],axis=1)\n",
    "test_x = test_x.drop(['USER_ID','JOIN_DATE','STORE_ID','DATE','ELAPSED_DAY'],axis=1)\n",
    "\n",
    "lgbr = LGBMRegressor(n_estimators=400, random_state=42) \n",
    "lgbr.fit(train_x, train_y)\n",
    "y_train = lgbr.predict(train_x) \n",
    "y_pred = lgbr.predict(test_x)\n",
    "\n",
    "t_MSE5 = mean_squared_error(train_y, y_train)\n",
    "t_MAE5 = mean_absolute_error(train_y, y_train)\n",
    "MSE5 = mean_squared_error(test_y, y_pred)\n",
    "MAE5 = mean_absolute_error(test_y, y_pred)\n",
    "\n",
    "print('train MSE :', t_MSE5)\n",
    "print('train MAE :', t_MAE5)\n",
    "print('MSE :', MSE5)\n",
    "print('MAE :', MAE5)"
   ]
  },
  {
   "cell_type": "markdown",
   "metadata": {},
   "source": [
    "# JOIN_DATE 이상치(1970-01-01) 처리"
   ]
  },
  {
   "cell_type": "code",
   "execution_count": 75,
   "metadata": {},
   "outputs": [],
   "source": [
    "# train/test 분리\n",
    "df_train = df[df['DATE'] <= '2020-09-30']\n",
    "df_test =  df[df['DATE'] > '2020-09-30']"
   ]
  },
  {
   "cell_type": "code",
   "execution_count": 76,
   "metadata": {},
   "outputs": [
    {
     "data": {
      "image/png": "[encoded data removed]",
      "text/plain": [
       "<Figure size 720x576 with 1 Axes>"
      ]
     },
     "metadata": {
      "needs_background": "light"
     },
     "output_type": "display_data"
    }
   ],
   "source": [
    "df_train.plot(kind='scatter', x='ELAPSED_DAY', y='COUNT', figsize=(10,8))\n",
    "plt.grid()\n",
    "plt.title('가입일수별 COUNT 총 갯수', fontsize=18)\n",
    "plt.ylabel('COUNT', fontsize=16)\n",
    "plt.xlabel('가입일수', fontsize=16)\n",
    "plt.show()"
   ]
  },
  {
   "cell_type": "code",
   "execution_count": 77,
   "metadata": {},
   "outputs": [
    {
     "data": {
      "text/plain": [
       "1970-01-01    972\n",
       "2013-12-16      1\n",
       "2013-12-17     20\n",
       "2013-12-18      1\n",
       "2013-12-21      2\n",
       "Name: JOIN_DATE, dtype: int64"
      ]
     },
     "execution_count": 77,
     "metadata": {},
     "output_type": "execute_result"
    }
   ],
   "source": [
    "df_train['JOIN_DATE'].value_counts().sort_index().head()"
   ]
  },
  {
   "cell_type": "markdown",
   "metadata": {},
   "source": [
    "회사 설립일 : 2013-02-04 <br>\n",
    "JOIN_DATE = 1970-01-01 을 최솟값(2013-12-16)으로 변환"
   ]
  },
  {
   "cell_type": "code",
   "execution_count": 78,
   "metadata": {},
   "outputs": [],
   "source": [
    "# 데이터 불러오기\n",
    "df = pd.read_csv('./모두컴퍼니_기술과제/실전db.csv')\n",
    "df.loc[(df['JOIN_DATE']=='1970-01-01'),'JOIN_DATE']='2013-12-16'\n",
    "\n",
    "# JOIN_DATE, DATE 를 날짜형 변수로 바꾸기\n",
    "df['JOIN_DATE'] = pd.to_datetime(df['JOIN_DATE'])\n",
    "df['DATE'] = pd.to_datetime(df['DATE'])\n",
    "\n",
    "## 파생변수 생성\n",
    "df['ELAPSED_DAY'] = (df['DATE']-df['JOIN_DATE']).dt.days\n",
    "df['ELAPSED_WEEK'] = (df['ELAPSED_DAY'] -1)//7 + 1\n",
    "\n",
    "df['MONTH'] = df['DATE'].dt.month\n",
    "df['DAY'] = df['DATE'].dt.day\n",
    "\n",
    "feature_enc(df)"
   ]
  },
  {
   "cell_type": "code",
   "execution_count": 79,
   "metadata": {},
   "outputs": [
    {
     "data": {
      "text/plain": [
       "2013-12-16    1095\n",
       "2013-12-17      26\n",
       "2013-12-18       1\n",
       "2013-12-21       2\n",
       "2013-12-22       2\n",
       "Name: JOIN_DATE, dtype: int64"
      ]
     },
     "execution_count": 79,
     "metadata": {},
     "output_type": "execute_result"
    }
   ],
   "source": [
    "df['JOIN_DATE'].value_counts().sort_index().head()"
   ]
  },
  {
   "cell_type": "markdown",
   "metadata": {},
   "source": [
    "## 기본모형 + 가입일수 + 이상치 변환"
   ]
  },
  {
   "cell_type": "code",
   "execution_count": 80,
   "metadata": {},
   "outputs": [
    {
     "name": "stdout",
     "output_type": "stream",
     "text": [
      "train MSE : 0.046291666024079685\n",
      "train MAE : 0.04024984410414615\n",
      "MSE : 0.18025238402113586\n",
      "MAE : 0.0478392684848961\n"
     ]
    }
   ],
   "source": [
    "# train/test 분리\n",
    "df_train = df[df['DATE'] <= '2020-09-30']\n",
    "df_test =  df[df['DATE'] > '2020-09-30']\n",
    "\n",
    "train_x = df_train.drop('COUNT',axis=1)\n",
    "train_y = df_train[['COUNT']]\n",
    "test_x = df_test.drop('COUNT',axis=1)\n",
    "test_y = df_test[['COUNT']]\n",
    "\n",
    "# 필요없는 컬럼제거\n",
    "train_x = train_x.drop(['USER_ID','JOIN_DATE','STORE_ID','DATE','ELAPSED_WEEK','MONTH','DAY'],axis=1)\n",
    "test_x = test_x.drop(['USER_ID','JOIN_DATE','STORE_ID','DATE','ELAPSED_WEEK','MONTH','DAY'],axis=1)\n",
    "\n",
    "lgbr = LGBMRegressor(n_estimators=400, random_state=42) \n",
    "lgbr.fit(train_x, train_y)\n",
    "y_train = lgbr.predict(train_x) \n",
    "y_pred = lgbr.predict(test_x)\n",
    "\n",
    "t_MSE6 = mean_squared_error(train_y, y_train)\n",
    "t_MAE6 = mean_absolute_error(train_y, y_train)\n",
    "MSE6 = mean_squared_error(test_y, y_pred)\n",
    "MAE6 = mean_absolute_error(test_y, y_pred)\n",
    "\n",
    "print('train MSE :', t_MSE6)\n",
    "print('train MAE :', t_MAE6)\n",
    "print('MSE :', MSE6)\n",
    "print('MAE :', MAE6)"
   ]
  },
  {
   "cell_type": "markdown",
   "metadata": {},
   "source": [
    "## 기본모형 + 가입일수 + 이상치 변환 + 월 + 일"
   ]
  },
  {
   "cell_type": "code",
   "execution_count": 81,
   "metadata": {},
   "outputs": [
    {
     "name": "stdout",
     "output_type": "stream",
     "text": [
      "train MSE : 0.03804723674368178\n",
      "train MAE : 0.039430308136017646\n",
      "MSE : 0.1714325019413874\n",
      "MAE : 0.050907248725893535\n"
     ]
    }
   ],
   "source": [
    "# train/test 분리\n",
    "df_train = df[df['DATE'] <= '2020-09-30']\n",
    "df_test =  df[df['DATE'] > '2020-09-30']\n",
    "\n",
    "train_x = df_train.drop('COUNT',axis=1)\n",
    "train_y = df_train[['COUNT']]\n",
    "test_x = df_test.drop('COUNT',axis=1)\n",
    "test_y = df_test[['COUNT']]\n",
    "\n",
    "# 필요없는 컬럼제거\n",
    "train_x = train_x.drop(['USER_ID','JOIN_DATE','STORE_ID','DATE','ELAPSED_WEEK'],axis=1)\n",
    "test_x = test_x.drop(['USER_ID','JOIN_DATE','STORE_ID','DATE','ELAPSED_WEEK'],axis=1)\n",
    "\n",
    "lgbr = LGBMRegressor(n_estimators=400, random_state=42) \n",
    "lgbr.fit(train_x, train_y)\n",
    "y_train = lgbr.predict(train_x) \n",
    "y_pred = lgbr.predict(test_x)\n",
    "\n",
    "t_MSE7 = mean_squared_error(train_y, y_train)\n",
    "t_MAE7 = mean_absolute_error(train_y, y_train)\n",
    "MSE7 = mean_squared_error(test_y, y_pred)\n",
    "MAE7 = mean_absolute_error(test_y, y_pred)\n",
    "\n",
    "print('train MSE :', t_MSE7)\n",
    "print('train MAE :', t_MAE7)\n",
    "print('MSE :', MSE7)\n",
    "print('MAE :', MAE7)"
   ]
  },
  {
   "cell_type": "markdown",
   "metadata": {},
   "source": [
    "## 기본모형 + 가입주수 + 이상치 변환"
   ]
  },
  {
   "cell_type": "code",
   "execution_count": 82,
   "metadata": {},
   "outputs": [
    {
     "name": "stdout",
     "output_type": "stream",
     "text": [
      "train MSE : 0.04669661026028549\n",
      "train MAE : 0.040316260457738055\n",
      "MSE : 0.1767936944418073\n",
      "MAE : 0.04783625053666587\n"
     ]
    }
   ],
   "source": [
    "# train/test 분리\n",
    "df_train = df[df['DATE'] <= '2020-09-30']\n",
    "df_test =  df[df['DATE'] > '2020-09-30']\n",
    "\n",
    "train_x = df_train.drop('COUNT',axis=1)\n",
    "train_y = df_train[['COUNT']]\n",
    "test_x = df_test.drop('COUNT',axis=1)\n",
    "test_y = df_test[['COUNT']]\n",
    "\n",
    "# 필요없는 컬럼제거\n",
    "train_x = train_x.drop(['USER_ID','JOIN_DATE','STORE_ID','DATE','ELAPSED_DAY','MONTH','DAY'],axis=1)\n",
    "test_x = test_x.drop(['USER_ID','JOIN_DATE','STORE_ID','DATE','ELAPSED_DAY','MONTH','DAY'],axis=1)\n",
    "\n",
    "lgbr = LGBMRegressor(n_estimators=400, random_state=42) \n",
    "lgbr.fit(train_x, train_y)\n",
    "y_train = lgbr.predict(train_x) \n",
    "y_pred = lgbr.predict(test_x)\n",
    "\n",
    "t_MSE8 = mean_squared_error(train_y, y_train)\n",
    "t_MAE8 = mean_absolute_error(train_y, y_train)\n",
    "MSE8 = mean_squared_error(test_y, y_pred)\n",
    "MAE8 = mean_absolute_error(test_y, y_pred)\n",
    "\n",
    "print('train MSE :', t_MSE8)\n",
    "print('train MAE :', t_MAE8)\n",
    "print('MSE :', MSE8)\n",
    "print('MAE :', MAE8)"
   ]
  },
  {
   "cell_type": "markdown",
   "metadata": {},
   "source": [
    "## 기본모형 + 가입주수 + 이상치 변환 + 월 + 일"
   ]
  },
  {
   "cell_type": "code",
   "execution_count": 83,
   "metadata": {},
   "outputs": [
    {
     "name": "stdout",
     "output_type": "stream",
     "text": [
      "train MSE : 0.037791119345665015\n",
      "train MAE : 0.03947785094459933\n",
      "MSE : 0.17276353771765823\n",
      "MAE : 0.05095658276915151\n"
     ]
    }
   ],
   "source": [
    "# train/test 분리\n",
    "df_train = df[df['DATE'] <= '2020-09-30']\n",
    "df_test =  df[df['DATE'] > '2020-09-30']\n",
    "\n",
    "train_x = df_train.drop('COUNT',axis=1)\n",
    "train_y = df_train[['COUNT']]\n",
    "test_x = df_test.drop('COUNT',axis=1)\n",
    "test_y = df_test[['COUNT']]\n",
    "\n",
    "# 필요없는 컬럼제거\n",
    "train_x = train_x.drop(['USER_ID','JOIN_DATE','STORE_ID','DATE','ELAPSED_DAY'],axis=1)\n",
    "test_x = test_x.drop(['USER_ID','JOIN_DATE','STORE_ID','DATE','ELAPSED_DAY'],axis=1)\n",
    "\n",
    "lgbr = LGBMRegressor(n_estimators=400, random_state=42) \n",
    "lgbr.fit(train_x, train_y)\n",
    "y_train = lgbr.predict(train_x) \n",
    "y_pred = lgbr.predict(test_x)\n",
    "\n",
    "t_MSE9 = mean_squared_error(train_y, y_train)\n",
    "t_MAE9 = mean_absolute_error(train_y, y_train)\n",
    "MSE9 = mean_squared_error(test_y, y_pred)\n",
    "MAE9 = mean_absolute_error(test_y, y_pred)\n",
    "\n",
    "print('train MSE :', t_MSE9)\n",
    "print('train MAE :', t_MAE9)\n",
    "print('MSE :', MSE9)\n",
    "print('MAE :', MAE9)"
   ]
  },
  {
   "cell_type": "markdown",
   "metadata": {},
   "source": [
    "# JOIN_YEAR 변수 추가"
   ]
  },
  {
   "cell_type": "code",
   "execution_count": 84,
   "metadata": {},
   "outputs": [],
   "source": [
    "# 데이터 불러오기\n",
    "df = pd.read_csv('./모두컴퍼니_기술과제/실전db.csv')\n",
    "\n",
    "# JOIN_DATE, DATE 를 날짜형 변수로 바꾸기\n",
    "df['JOIN_DATE'] = pd.to_datetime(df['JOIN_DATE'])\n",
    "df['DATE'] = pd.to_datetime(df['DATE'])\n",
    "\n",
    "## 파생변수 생성\n",
    "df['JOIN_YEAR'] = df['JOIN_DATE'].dt.year\n",
    "df['MONTH'] = df['DATE'].dt.month\n",
    "df['DAY'] = df['DATE'].dt.day"
   ]
  },
  {
   "cell_type": "code",
   "execution_count": 85,
   "metadata": {},
   "outputs": [],
   "source": [
    "feature_enc(df)"
   ]
  },
  {
   "cell_type": "markdown",
   "metadata": {},
   "source": [
    "##  기본모형 + JOIN_YEAR"
   ]
  },
  {
   "cell_type": "code",
   "execution_count": 86,
   "metadata": {},
   "outputs": [
    {
     "name": "stdout",
     "output_type": "stream",
     "text": [
      "train MSE : 0.05501041070113874\n",
      "train MAE : 0.04101332583670479\n",
      "MSE : 0.17523067028628647\n",
      "MAE : 0.04815365197703127\n"
     ]
    }
   ],
   "source": [
    "# train/test 분리\n",
    "df_train = df[df['DATE'] <= '2020-09-30']\n",
    "df_test =  df[df['DATE'] > '2020-09-30']\n",
    "\n",
    "train_x = df_train.drop('COUNT',axis=1)\n",
    "train_y = df_train[['COUNT']]\n",
    "test_x = df_test.drop('COUNT',axis=1)\n",
    "test_y = df_test[['COUNT']]\n",
    "\n",
    "# 필요없는 컬럼제거\n",
    "train_x = train_x.drop(['USER_ID','JOIN_DATE','STORE_ID','DATE','MONTH','DAY'],axis=1)\n",
    "test_x = test_x.drop(['USER_ID','JOIN_DATE','STORE_ID','DATE','MONTH','DAY'],axis=1)\n",
    "\n",
    "lgbr = LGBMRegressor(n_estimators=400, random_state=42) \n",
    "lgbr.fit(train_x, train_y)\n",
    "y_train = lgbr.predict(train_x) \n",
    "y_pred = lgbr.predict(test_x)\n",
    "\n",
    "t_MSE10 = mean_squared_error(train_y, y_train)\n",
    "t_MAE10 = mean_absolute_error(train_y, y_train)\n",
    "MSE10 = mean_squared_error(test_y, y_pred)\n",
    "MAE10 = mean_absolute_error(test_y, y_pred)\n",
    "\n",
    "print('train MSE :', t_MSE10)\n",
    "print('train MAE :', t_MAE10)\n",
    "print('MSE :', MSE10)\n",
    "print('MAE :', MAE10)"
   ]
  },
  {
   "cell_type": "markdown",
   "metadata": {},
   "source": [
    "##  기본모형 + JOIN_YEAR + MONTH + DAY"
   ]
  },
  {
   "cell_type": "code",
   "execution_count": 87,
   "metadata": {},
   "outputs": [
    {
     "name": "stdout",
     "output_type": "stream",
     "text": [
      "train MSE : 0.03781623661871759\n",
      "train MAE : 0.03964213976619198\n",
      "MSE : 0.10652514002723203\n",
      "MAE : 0.04910608971209841\n"
     ]
    }
   ],
   "source": [
    "# train/test 분리\n",
    "df_train = df[df['DATE'] <= '2020-09-30']\n",
    "df_test =  df[df['DATE'] > '2020-09-30']\n",
    "\n",
    "train_x = df_train.drop('COUNT',axis=1)\n",
    "train_y = df_train[['COUNT']]\n",
    "test_x = df_test.drop('COUNT',axis=1)\n",
    "test_y = df_test[['COUNT']]\n",
    "\n",
    "# 필요없는 컬럼제거\n",
    "train_x = train_x.drop(['USER_ID','JOIN_DATE','STORE_ID','DATE'],axis=1)\n",
    "test_x = test_x.drop(['USER_ID','JOIN_DATE','STORE_ID','DATE'],axis=1)\n",
    "\n",
    "lgbr = LGBMRegressor(n_estimators=400, random_state=42) \n",
    "lgbr.fit(train_x, train_y)\n",
    "y_train = lgbr.predict(train_x) \n",
    "y_pred = lgbr.predict(test_x)\n",
    "\n",
    "t_MSE11 = mean_squared_error(train_y, y_train)\n",
    "t_MAE11 = mean_absolute_error(train_y, y_train)\n",
    "MSE11 = mean_squared_error(test_y, y_pred)\n",
    "MAE11 = mean_absolute_error(test_y, y_pred)\n",
    "\n",
    "print('train MSE :', t_MSE11)\n",
    "print('train MAE :', t_MAE11)\n",
    "print('MSE :', MSE11)\n",
    "print('MAE :', MAE11)"
   ]
  },
  {
   "cell_type": "markdown",
   "metadata": {},
   "source": [
    "## 기본모형 + JOIN_YEAR + MONTH + DAY + 이상치 변환"
   ]
  },
  {
   "cell_type": "code",
   "execution_count": 88,
   "metadata": {},
   "outputs": [],
   "source": [
    "# 데이터 불러오기\n",
    "df = pd.read_csv('./모두컴퍼니_기술과제/실전db.csv')\n",
    "df.loc[(df['JOIN_DATE']=='1970-01-01'),'JOIN_DATE']='2013-12-16'\n",
    "\n",
    "# JOIN_DATE, DATE 를 날짜형 변수로 바꾸기\n",
    "df['JOIN_DATE'] = pd.to_datetime(df['JOIN_DATE'])\n",
    "df['DATE'] = pd.to_datetime(df['DATE'])\n",
    "\n",
    "## 파생변수 생성\n",
    "df['JOIN_YEAR'] = df['JOIN_DATE'].dt.year\n",
    "df['MONTH'] = df['DATE'].dt.month\n",
    "df['DAY'] = df['DATE'].dt.day\n",
    "\n",
    "feature_enc(df)"
   ]
  },
  {
   "cell_type": "code",
   "execution_count": 89,
   "metadata": {},
   "outputs": [
    {
     "name": "stdout",
     "output_type": "stream",
     "text": [
      "train MSE : 0.03794687594142239\n",
      "train MAE : 0.039632400779719364\n",
      "MSE : 0.10718895615983717\n",
      "MAE : 0.04895851976616103\n"
     ]
    }
   ],
   "source": [
    "# train/test 분리\n",
    "df_train = df[df['DATE'] <= '2020-09-30']\n",
    "df_test =  df[df['DATE'] > '2020-09-30']\n",
    "\n",
    "train_x = df_train.drop('COUNT',axis=1)\n",
    "train_y = df_train[['COUNT']]\n",
    "test_x = df_test.drop('COUNT',axis=1)\n",
    "test_y = df_test[['COUNT']]\n",
    "\n",
    "# 필요없는 컬럼제거\n",
    "train_x = train_x.drop(['USER_ID','JOIN_DATE','STORE_ID','DATE'],axis=1)\n",
    "test_x = test_x.drop(['USER_ID','JOIN_DATE','STORE_ID','DATE'],axis=1)\n",
    "\n",
    "lgbr = LGBMRegressor(n_estimators=400, random_state=42) \n",
    "lgbr.fit(train_x, train_y)\n",
    "y_train = lgbr.predict(train_x) \n",
    "y_pred = lgbr.predict(test_x)\n",
    "\n",
    "t_MSE12 = mean_squared_error(train_y, y_train)\n",
    "t_MAE12 = mean_absolute_error(train_y, y_train)\n",
    "MSE12 = mean_squared_error(test_y, y_pred)\n",
    "MAE12 = mean_absolute_error(test_y, y_pred)\n",
    "\n",
    "print('train MSE :', t_MSE12)\n",
    "print('train MAE :', t_MAE12)\n",
    "print('MSE :', MSE12)\n",
    "print('MAE :', MAE12)"
   ]
  },
  {
   "cell_type": "markdown",
   "metadata": {},
   "source": [
    "# 최종 결과"
   ]
  },
  {
   "cell_type": "code",
   "execution_count": 90,
   "metadata": {},
   "outputs": [
    {
     "data": {
      "text/html": [
       "<div>\n",
       "<style scoped>\n",
       "    .dataframe tbody tr th:only-of-type {\n",
       "        vertical-align: middle;\n",
       "    }\n",
       "\n",
       "    .dataframe tbody tr th {\n",
       "        vertical-align: top;\n",
       "    }\n",
       "\n",
       "    .dataframe thead th {\n",
       "        text-align: right;\n",
       "    }\n",
       "</style>\n",
       "<table border=\"1\" class=\"dataframe\">\n",
       "  <thead>\n",
       "    <tr style=\"text-align: right;\">\n",
       "      <th></th>\n",
       "      <th>Set</th>\n",
       "      <th>labeling</th>\n",
       "      <th>model</th>\n",
       "      <th>avg val MSE</th>\n",
       "      <th>avg val MAE</th>\n",
       "      <th>test MSE</th>\n",
       "      <th>test MAE</th>\n",
       "    </tr>\n",
       "  </thead>\n",
       "  <tbody>\n",
       "    <tr>\n",
       "      <th>0</th>\n",
       "      <td>Basic Set</td>\n",
       "      <td>label</td>\n",
       "      <td>LGBM</td>\n",
       "      <td>0.132541</td>\n",
       "      <td>0.047736</td>\n",
       "      <td>0.376520</td>\n",
       "      <td>0.053914</td>\n",
       "    </tr>\n",
       "    <tr>\n",
       "      <th>1</th>\n",
       "      <td>+ELAPSED_DAY</td>\n",
       "      <td>dum</td>\n",
       "      <td>LGBM</td>\n",
       "      <td>0.046292</td>\n",
       "      <td>0.040250</td>\n",
       "      <td>0.180252</td>\n",
       "      <td>0.047839</td>\n",
       "    </tr>\n",
       "    <tr>\n",
       "      <th>2</th>\n",
       "      <td>+ELAPSED_DAY+MONTH+DAY</td>\n",
       "      <td>dum</td>\n",
       "      <td>LGBM</td>\n",
       "      <td>0.038047</td>\n",
       "      <td>0.039430</td>\n",
       "      <td>0.171433</td>\n",
       "      <td>0.050907</td>\n",
       "    </tr>\n",
       "    <tr>\n",
       "      <th>3</th>\n",
       "      <td>+ELAPSED_WEEK</td>\n",
       "      <td>dum</td>\n",
       "      <td>LGBM</td>\n",
       "      <td>0.046899</td>\n",
       "      <td>0.040316</td>\n",
       "      <td>0.176121</td>\n",
       "      <td>0.047792</td>\n",
       "    </tr>\n",
       "    <tr>\n",
       "      <th>4</th>\n",
       "      <td>+ELAPSED_WEEK+MONTH+DAY</td>\n",
       "      <td>dum</td>\n",
       "      <td>LGBM</td>\n",
       "      <td>0.037761</td>\n",
       "      <td>0.039438</td>\n",
       "      <td>0.172255</td>\n",
       "      <td>0.050896</td>\n",
       "    </tr>\n",
       "    <tr>\n",
       "      <th>5</th>\n",
       "      <td>+ELAPSED_DAY+outlier</td>\n",
       "      <td>dum</td>\n",
       "      <td>LGBM</td>\n",
       "      <td>0.046292</td>\n",
       "      <td>0.040250</td>\n",
       "      <td>0.180252</td>\n",
       "      <td>0.047839</td>\n",
       "    </tr>\n",
       "    <tr>\n",
       "      <th>6</th>\n",
       "      <td>+ELAPSED_DAY+outlier+MONTH+DAY</td>\n",
       "      <td>dum</td>\n",
       "      <td>LGBM</td>\n",
       "      <td>0.038047</td>\n",
       "      <td>0.039430</td>\n",
       "      <td>0.171433</td>\n",
       "      <td>0.050907</td>\n",
       "    </tr>\n",
       "    <tr>\n",
       "      <th>7</th>\n",
       "      <td>+ELAPSED_WEEK+outlier</td>\n",
       "      <td>dum</td>\n",
       "      <td>LGBM</td>\n",
       "      <td>0.046697</td>\n",
       "      <td>0.040316</td>\n",
       "      <td>0.176794</td>\n",
       "      <td>0.047836</td>\n",
       "    </tr>\n",
       "    <tr>\n",
       "      <th>8</th>\n",
       "      <td>+ELAPSED_WEEK+outlier+MONTH+DAY</td>\n",
       "      <td>dum</td>\n",
       "      <td>LGBM</td>\n",
       "      <td>0.037791</td>\n",
       "      <td>0.039478</td>\n",
       "      <td>0.172764</td>\n",
       "      <td>0.050957</td>\n",
       "    </tr>\n",
       "    <tr>\n",
       "      <th>9</th>\n",
       "      <td>+JOIN_YEAR</td>\n",
       "      <td>dum</td>\n",
       "      <td>LGBM</td>\n",
       "      <td>0.055010</td>\n",
       "      <td>0.041013</td>\n",
       "      <td>0.175231</td>\n",
       "      <td>0.048154</td>\n",
       "    </tr>\n",
       "    <tr>\n",
       "      <th>10</th>\n",
       "      <td>+JOIN_YEAR+MONTH+DAY</td>\n",
       "      <td>dum</td>\n",
       "      <td>LGBM</td>\n",
       "      <td>0.037816</td>\n",
       "      <td>0.039642</td>\n",
       "      <td>0.106525</td>\n",
       "      <td>0.049106</td>\n",
       "    </tr>\n",
       "    <tr>\n",
       "      <th>11</th>\n",
       "      <td>+JOIN_YEAR+MONTH+DAY+outlier</td>\n",
       "      <td>dum</td>\n",
       "      <td>LGBM</td>\n",
       "      <td>0.037947</td>\n",
       "      <td>0.039632</td>\n",
       "      <td>0.107189</td>\n",
       "      <td>0.048959</td>\n",
       "    </tr>\n",
       "  </tbody>\n",
       "</table>\n",
       "</div>"
      ],
      "text/plain": [
       "                                Set labeling model  avg val MSE  avg val MAE  \\\n",
       "0                         Basic Set    label  LGBM     0.132541     0.047736   \n",
       "1                      +ELAPSED_DAY      dum  LGBM     0.046292     0.040250   \n",
       "2            +ELAPSED_DAY+MONTH+DAY      dum  LGBM     0.038047     0.039430   \n",
       "3                     +ELAPSED_WEEK      dum  LGBM     0.046899     0.040316   \n",
       "4           +ELAPSED_WEEK+MONTH+DAY      dum  LGBM     0.037761     0.039438   \n",
       "5              +ELAPSED_DAY+outlier      dum  LGBM     0.046292     0.040250   \n",
       "6    +ELAPSED_DAY+outlier+MONTH+DAY      dum  LGBM     0.038047     0.039430   \n",
       "7             +ELAPSED_WEEK+outlier      dum  LGBM     0.046697     0.040316   \n",
       "8   +ELAPSED_WEEK+outlier+MONTH+DAY      dum  LGBM     0.037791     0.039478   \n",
       "9                        +JOIN_YEAR      dum  LGBM     0.055010     0.041013   \n",
       "10             +JOIN_YEAR+MONTH+DAY      dum  LGBM     0.037816     0.039642   \n",
       "11     +JOIN_YEAR+MONTH+DAY+outlier      dum  LGBM     0.037947     0.039632   \n",
       "\n",
       "    test MSE  test MAE  \n",
       "0   0.376520  0.053914  \n",
       "1   0.180252  0.047839  \n",
       "2   0.171433  0.050907  \n",
       "3   0.176121  0.047792  \n",
       "4   0.172255  0.050896  \n",
       "5   0.180252  0.047839  \n",
       "6   0.171433  0.050907  \n",
       "7   0.176794  0.047836  \n",
       "8   0.172764  0.050957  \n",
       "9   0.175231  0.048154  \n",
       "10  0.106525  0.049106  \n",
       "11  0.107189  0.048959  "
      ]
     },
     "execution_count": 90,
     "metadata": {},
     "output_type": "execute_result"
    }
   ],
   "source": [
    "result = pd.DataFrame({'Set':['Basic Set','+ELAPSED_DAY','+ELAPSED_DAY+MONTH+DAY','+ELAPSED_WEEK','+ELAPSED_WEEK+MONTH+DAY','+ELAPSED_DAY+outlier','+ELAPSED_DAY+outlier+MONTH+DAY','+ELAPSED_WEEK+outlier','+ELAPSED_WEEK+outlier+MONTH+DAY','+JOIN_YEAR','+JOIN_YEAR+MONTH+DAY','+JOIN_YEAR+MONTH+DAY+outlier'],\n",
    "                       'labeling':['label','dum','dum','dum','dum','dum','dum','dum','dum','dum','dum','dum'],\n",
    "                       'model':['LGBM','LGBM','LGBM','LGBM','LGBM','LGBM','LGBM','LGBM','LGBM','LGBM','LGBM','LGBM'],\n",
    "                       'avg val MSE':[t_MSE1,t_MSE2,t_MSE3,t_MSE4,t_MSE5,t_MSE6,t_MSE7,t_MSE8,t_MSE9,t_MSE10,t_MSE11,t_MSE12],\n",
    "                       'avg val MAE':[t_MAE1,t_MAE2,t_MAE3,t_MAE4,t_MAE5,t_MAE6,t_MAE7,t_MAE8,t_MAE9,t_MAE10,t_MAE11,t_MAE12],\n",
    "                       'test MSE':[MSE1,MSE2,MSE3,MSE4,MSE5,MSE6,MSE7,MSE8,MSE9,MSE10,MSE11,MSE12],\n",
    "                       'test MAE':[MAE1,MAE2,MAE3,MAE4,MAE5,MAE6,MAE7,MAE8,MAE9,MAE10,MAE11,MAE12]})\n",
    "result"
   ]
  },
  {
   "cell_type": "code",
   "execution_count": null,
   "metadata": {},
   "outputs": [],
   "source": [
    "1. "
   ]
  }
 ],
 "metadata": {
  "kernelspec": {
   "display_name": "Python 3",
   "language": "python",
   "name": "python3"
  },
  "language_info": {
   "codemirror_mode": {
    "name": "ipython",
    "version": 3
   },
   "file_extension": ".py",
   "mimetype": "text/x-python",
   "name": "python",
   "nbconvert_exporter": "python",
   "pygments_lexer": "ipython3",
   "version": "3.8.5"
  },
  "toc": {
   "base_numbering": 1,
   "nav_menu": {},
   "number_sections": true,
   "sideBar": true,
   "skip_h1_title": false,
   "title_cell": "Table of Contents",
   "title_sidebar": "Contents",
   "toc_cell": false,
   "toc_position": {
    "height": "calc(100% - 180px)",
    "left": "10px",
    "top": "150px",
    "width": "191.594px"
   },
   "toc_section_display": true,
   "toc_window_display": true
  }
 },
 "nbformat": 4,
 "nbformat_minor": 4
}
